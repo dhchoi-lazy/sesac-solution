{
 "cells": [
  {
   "cell_type": "markdown",
   "id": "e8caa705",
   "metadata": {
    "deletable": false,
    "editable": false,
    "nbgrader": {
     "grade": false,
     "grade_id": "cell-d107831c9ee4d5d3",
     "locked": true,
     "schema_version": 3,
     "solution": false,
     "task": false
    }
   },
   "source": [
    "**주의사항**\n",
    " - 제출 전 커널을 재시작하고 **run all cells**를 눌러 모든 코드가 정상적으로 동작하는지 확인하세요.\n",
    " - 이름을 기입하고 Shift + Enter 를 누르세요.\n",
    " - 파일을 저장했는지 꼭 확인하세요.\n",
    " - 함수에서 `YOUR CODE HERE`라고 쓰여 있는 부분을 지우고 함수를 작성하세요.\n",
    " - 문제 아래에 테스트 코드를 실행해서 오류가 없는 지 확인해 보세요.\n",
    " - 테스트 코드를 통과했다고 해서 반드시 정답인 것은 아닙니다."
   ]
  },
  {
   "cell_type": "code",
   "execution_count": 1,
   "id": "c0921032",
   "metadata": {
    "execution": {
     "iopub.execute_input": "2024-01-04T16:55:34.295451Z",
     "iopub.status.busy": "2024-01-04T16:55:34.294924Z",
     "iopub.status.idle": "2024-01-04T16:55:34.304042Z",
     "shell.execute_reply": "2024-01-04T16:55:34.303115Z"
    }
   },
   "outputs": [],
   "source": [
    "이름 = \"\""
   ]
  },
  {
   "cell_type": "markdown",
   "id": "751e0a9b",
   "metadata": {},
   "source": [
    "---"
   ]
  },
  {
   "cell_type": "markdown",
   "id": "5ed238f4-c106-4efc-9540-41c318ec5a12",
   "metadata": {
    "deletable": false,
    "editable": false,
    "nbgrader": {
     "grade": false,
     "grade_id": "b1s",
     "locked": true,
     "schema_version": 3,
     "solution": false,
     "task": false
    }
   },
   "source": [
    "### 문제 1.\n",
    "\n",
    "당신은 주중에는 6시 30분에 일어나고 싶고, 주말에는 자유롭게 잠을 자고 싶습니다.\n",
    "\n",
    "함수 `set_alarm`를 작성하세요.\n",
    "\n",
    "- 함수는 하나의 매개변수를 받습니다: `weekday` (Boolean 값, 주중이면 `True`, 주말이면 `False`)\n",
    "- 함수는 주중일 경우 \"wake up at 6:30\"을, 주말일 경우 \"sleep in\"을 반환합니다.\n",
    "\n",
    "예를 들어:\n",
    "\n",
    "- `weekday = True`일 경우, 출력은 \"wake up at 6:30\"이어야 합니다.\n",
    "- `weekday = False`일 경우, 출력은 \"sleep in\"이어야 합니다."
   ]
  },
  {
   "cell_type": "code",
   "execution_count": 2,
   "id": "fd51635c-8328-4314-9f8c-acd34df45c2a",
   "metadata": {
    "deletable": false,
    "execution": {
     "iopub.execute_input": "2024-01-04T16:55:34.309026Z",
     "iopub.status.busy": "2024-01-04T16:55:34.308335Z",
     "iopub.status.idle": "2024-01-04T16:55:34.312829Z",
     "shell.execute_reply": "2024-01-04T16:55:34.311779Z"
    },
    "nbgrader": {
     "grade": false,
     "grade_id": "b1a",
     "locked": false,
     "schema_version": 3,
     "solution": true,
     "task": false
    }
   },
   "outputs": [],
   "source": [
    "def set_alarm(weekday: bool) -> str:\n",
    "    ### BEGIN SOLUTION\n",
    "    if weekday:\n",
    "        return \"wake up at 6:30\"\n",
    "    else:\n",
    "        return \"sleep in\"\n",
    "    ### END SOLUTION"
   ]
  },
  {
   "cell_type": "code",
   "execution_count": 3,
   "id": "b78d2e8f-54ea-4cf3-8b46-61e1cc4a7e8c",
   "metadata": {
    "deletable": false,
    "editable": false,
    "execution": {
     "iopub.execute_input": "2024-01-04T16:55:34.317971Z",
     "iopub.status.busy": "2024-01-04T16:55:34.316903Z",
     "iopub.status.idle": "2024-01-04T16:55:34.321544Z",
     "shell.execute_reply": "2024-01-04T16:55:34.320726Z"
    },
    "nbgrader": {
     "grade": true,
     "grade_id": "b1t",
     "locked": true,
     "points": 1,
     "schema_version": 3,
     "solution": false,
     "task": false
    }
   },
   "outputs": [],
   "source": [
    "assert set_alarm(True) == \"wake up at 6:30\"\n",
    "assert set_alarm(False) == \"sleep in\"\n",
    "### BEGIN HIDDEN TESTS\n",
    "assert set_alarm(True) == \"wake up at 6:30\"\n",
    "assert set_alarm(False) == \"sleep in\"\n",
    "### END HIDDEN TESTS"
   ]
  },
  {
   "cell_type": "markdown",
   "id": "24abae77-e1e1-4590-877a-805802ebb28a",
   "metadata": {
    "deletable": false,
    "editable": false,
    "nbgrader": {
     "grade": false,
     "grade_id": "b2s",
     "locked": true,
     "schema_version": 3,
     "solution": false,
     "task": false
    }
   },
   "source": [
    "### 문제 2.\n",
    "\n",
    "함수 `get_length`를 작성하세요.\n",
    "\n",
    "주어진 리스트 `lst`의 길이를 반환하세요.\n",
    "\n",
    "예를 들어:\n",
    "\n",
    "- `lst = [10, 20, 30, 40, 50]`의 경우 출력은 `5`이어야 합니다.\n",
    "\n",
    "- `lst = [\"안녕\", \"하세요\", \"파이썬\"]`의 경우 출력은 `3`이어야 합니다.\n"
   ]
  },
  {
   "cell_type": "code",
   "execution_count": 4,
   "id": "bd3ffc67-c8eb-4934-bb70-0af281d7bda7",
   "metadata": {
    "deletable": false,
    "execution": {
     "iopub.execute_input": "2024-01-04T16:55:34.325791Z",
     "iopub.status.busy": "2024-01-04T16:55:34.325218Z",
     "iopub.status.idle": "2024-01-04T16:55:34.331025Z",
     "shell.execute_reply": "2024-01-04T16:55:34.328753Z"
    },
    "nbgrader": {
     "grade": false,
     "grade_id": "b2a",
     "locked": false,
     "schema_version": 3,
     "solution": true,
     "task": false
    }
   },
   "outputs": [],
   "source": [
    "def get_length(lst: list) -> int:\n",
    "    ### BEGIN SOLUTION\n",
    "    return len(lst)\n",
    "    ### END SOLUTION"
   ]
  },
  {
   "cell_type": "code",
   "execution_count": 5,
   "id": "56fc3a56-7ab1-423d-ad8a-233507fd3630",
   "metadata": {
    "deletable": false,
    "editable": false,
    "execution": {
     "iopub.execute_input": "2024-01-04T16:55:34.336178Z",
     "iopub.status.busy": "2024-01-04T16:55:34.335850Z",
     "iopub.status.idle": "2024-01-04T16:55:34.341273Z",
     "shell.execute_reply": "2024-01-04T16:55:34.340548Z"
    },
    "nbgrader": {
     "grade": true,
     "grade_id": "b2t",
     "locked": true,
     "points": 1,
     "schema_version": 3,
     "solution": false,
     "task": false
    }
   },
   "outputs": [],
   "source": [
    "assert get_length([10, 20, 30, 40, 50]) == 5\n",
    "assert get_length([\"안녕\", \"하세요\", \"파이썬\"]) == 3\n",
    "assert get_length([True, False, True, True, False]) == 5\n",
    "assert get_length([\"데이터\", \"베이스\", \"시스템\", \"프로그래밍\"]) == 4\n",
    "### BEGIN HIDDEN TESTS\n",
    "assert get_length([\"이것\", \"은\", \"테스트\", \"입니다\"]) == 4\n",
    "assert get_length([1, 2, 3, 4, 5, 6, 7, 8, 9, 10]) == 10\n",
    "### END HIDDEN TESTS "
   ]
  },
  {
   "cell_type": "markdown",
   "id": "294588f8-672f-4585-a438-6d4589ada6dc",
   "metadata": {
    "deletable": false,
    "editable": false,
    "nbgrader": {
     "grade": false,
     "grade_id": "b3s",
     "locked": true,
     "schema_version": 3,
     "solution": false,
     "task": false
    }
   },
   "source": [
    "### 문제 3.\n",
    "\n",
    "당신은 자주 가는 카페와 그 카페의 메뉴에 대한 정보를 문자열로 표현하려고 합니다.\n",
    "\n",
    "함수 `favorite_cafe`를 작성하세요.\n",
    "\n",
    "- 함수는 두 개의 매개변수를 받습니다: `brand` (가장 좋아하는 카페 브랜드의 이름, 문자열)와 `menu` (그 카페에서 가장 좋아하는 메뉴, 문자열)\n",
    "- 함수는 f-string을 이용하여 `\"제가 제일 좋아하는 카페는 {brand}입니다. 그 중에서도 {menu}가 가장 좋아요.\"` 형태의 문자열을 반환합니다.\n",
    "\n",
    "예를 들어:\n",
    "\n",
    "- `brand = \"Starbucks\", menu = \"Americano\"`일 경우, 출력은 \"제가 제일 좋아하는 카페는 Starbucks입니다. 그 중에서도 Americano가 가장 좋아요.\"이어야 합니다.\n",
    "\n"
   ]
  },
  {
   "cell_type": "code",
   "execution_count": 6,
   "id": "0b6fff35-2904-40b1-bd03-0093d804dc53",
   "metadata": {
    "deletable": false,
    "execution": {
     "iopub.execute_input": "2024-01-04T16:55:34.346023Z",
     "iopub.status.busy": "2024-01-04T16:55:34.344948Z",
     "iopub.status.idle": "2024-01-04T16:55:34.349898Z",
     "shell.execute_reply": "2024-01-04T16:55:34.348941Z"
    },
    "nbgrader": {
     "grade": false,
     "grade_id": "b3a",
     "locked": false,
     "schema_version": 3,
     "solution": true,
     "task": false
    }
   },
   "outputs": [],
   "source": [
    "def favorite_cafe(brand: str, menu: str) -> str:\n",
    "    ### BEGIN SOLUTION\n",
    "    return f'제가 제일 좋아하는 카페는 {brand}입니다. 그 중에서도 {menu}가 가장 좋아요.'\n",
    "    ### END SOLUTION"
   ]
  },
  {
   "cell_type": "code",
   "execution_count": 7,
   "id": "2269a974-d23c-43b7-804f-415d1f4b0d3c",
   "metadata": {
    "deletable": false,
    "editable": false,
    "execution": {
     "iopub.execute_input": "2024-01-04T16:55:34.353882Z",
     "iopub.status.busy": "2024-01-04T16:55:34.353562Z",
     "iopub.status.idle": "2024-01-04T16:55:34.360326Z",
     "shell.execute_reply": "2024-01-04T16:55:34.359501Z"
    },
    "nbgrader": {
     "grade": true,
     "grade_id": "b3t",
     "locked": true,
     "points": 1,
     "schema_version": 3,
     "solution": false,
     "task": false
    }
   },
   "outputs": [],
   "source": [
    "assert favorite_cafe(\"Starbucks\", \"Americano\") == \"제가 제일 좋아하는 카페는 Starbucks입니다. 그 중에서도 Americano가 가장 좋아요.\"\n",
    "assert favorite_cafe(\"Ediya\", \"Iced Latte\") == \"제가 제일 좋아하는 카페는 Ediya입니다. 그 중에서도 Iced Latte가 가장 좋아요.\"\n",
    "### BEGIN HIDDEN TESTS\n",
    "assert favorite_cafe(\"Hollys\", \"Cappuccino\") == \"제가 제일 좋아하는 카페는 Hollys입니다. 그 중에서도 Cappuccino가 가장 좋아요.\"\n",
    "### END HIDDEN TESTS"
   ]
  },
  {
   "cell_type": "markdown",
   "id": "67e4b7c8-71f7-41a9-ae39-d2bbfda50ae2",
   "metadata": {
    "deletable": false,
    "editable": false,
    "nbgrader": {
     "grade": false,
     "grade_id": "b4s",
     "locked": true,
     "schema_version": 3,
     "solution": false,
     "task": false
    }
   },
   "source": [
    "### 문제 4.\n",
    "\n",
    "당신은 두 개의 문장을 합쳐서 하나의 완전한 문장을 만들려고 합니다.\n",
    "\n",
    "함수 `concatenate_strings`를 작성하세요.\n",
    "\n",
    "- 함수는 두 개의 매개변수를 받습니다: `first` (첫 번째 문장, 문자열)와 `second` (두 번째 문장, 문자열)\n",
    "- 함수는 두 개의 문자열을 연결하여 반환합니다.\n",
    "\n",
    "예를 들어:\n",
    "\n",
    "- `first = \"국경의 긴 터널을 빠져나오자, \", second = \"설국이었다.\"`일 경우, 출력은 \"국경의 긴 터널을 빠져나오자, 설국이었다.\"이어야 합니다.\n",
    "\n"
   ]
  },
  {
   "cell_type": "code",
   "execution_count": 8,
   "id": "5b84c349-e3ff-4b9c-9c37-d4b6343506ed",
   "metadata": {
    "deletable": false,
    "execution": {
     "iopub.execute_input": "2024-01-04T16:55:34.364961Z",
     "iopub.status.busy": "2024-01-04T16:55:34.364207Z",
     "iopub.status.idle": "2024-01-04T16:55:34.369235Z",
     "shell.execute_reply": "2024-01-04T16:55:34.367985Z"
    },
    "nbgrader": {
     "grade": false,
     "grade_id": "b4a",
     "locked": false,
     "schema_version": 3,
     "solution": true,
     "task": false
    }
   },
   "outputs": [],
   "source": [
    "def concatenate_strings(first: str, second: str) -> str:\n",
    "    ### BEGIN SOLUTION\n",
    "    return first + second\n",
    "    ### END SOLUTION"
   ]
  },
  {
   "cell_type": "code",
   "execution_count": 9,
   "id": "ecf7c7eb-64ee-4d2c-979d-92bfe6cad75f",
   "metadata": {
    "deletable": false,
    "editable": false,
    "execution": {
     "iopub.execute_input": "2024-01-04T16:55:34.373381Z",
     "iopub.status.busy": "2024-01-04T16:55:34.373033Z",
     "iopub.status.idle": "2024-01-04T16:55:34.378297Z",
     "shell.execute_reply": "2024-01-04T16:55:34.376952Z"
    },
    "nbgrader": {
     "grade": true,
     "grade_id": "b4t",
     "locked": true,
     "points": 1,
     "schema_version": 3,
     "solution": false,
     "task": false
    }
   },
   "outputs": [],
   "source": [
    "assert concatenate_strings(\"국경의 긴 터널을 빠져나오자, \", \"설국이었다.\") == \"국경의 긴 터널을 빠져나오자, 설국이었다.\"\n",
    "assert concatenate_strings(\"오늘은 \", \"월요일입니다.\") == \"오늘은 월요일입니다.\"\n",
    "### BEGIN HIDDEN TESTS\n",
    "assert concatenate_strings(\"나는 \", \"학생입니다.\") == \"나는 학생입니다.\"\n",
    "### END HIDDEN TESTS"
   ]
  },
  {
   "cell_type": "markdown",
   "id": "6f2ac6af-5cd2-419d-a49d-87424d6ac883",
   "metadata": {
    "deletable": false,
    "editable": false,
    "nbgrader": {
     "grade": false,
     "grade_id": "b5s",
     "locked": true,
     "schema_version": 3,
     "solution": false,
     "task": false
    }
   },
   "source": [
    "### 문제 5.\n",
    "\n",
    "아래 initial_list에 저장된 값을 변경하고자 합니다. `\"Madison\"`은 진급 시험을 통과했습니다. initial_list 명단의 Grade Level을 7학년이 아닌 8학년으로 바꿔야 합니다. 변경사항을 반영하기 위해 `[][]`를 사용하여 목록을 수정하세요. **양수 인덱스**를 사용하하세요. 또, `\"Kenny\"`는 별명인 `\"Ken\"`으로 불리기를 좋아합니다. 리스트를 **음수 인덱스**만 사용하여 변경해 보세요.\n",
    "\n",
    "**변경 전**\n",
    "```\n",
    "initial_list = [[\"Kenny\", \"America\", 9],\n",
    "                [\"Tanya\", \"Ukrainian\", 9],\n",
    "                [\"Madison\", \"Indian\", 7]]\n",
    "\n",
    "```\n",
    "**변경 후**\n",
    "```\n",
    "initial_list = [[\"Ken\", \"America\", 9],\n",
    "                [\"Tanya\", \"Ukrainian\", 9],\n",
    "                [\"Madison\", \"Indian\", 8]]\n",
    "\n",
    "```\n"
   ]
  },
  {
   "cell_type": "code",
   "execution_count": 10,
   "id": "7439ad59-97f7-4c17-9344-6ac78466b7e8",
   "metadata": {
    "deletable": false,
    "execution": {
     "iopub.execute_input": "2024-01-04T16:55:34.383133Z",
     "iopub.status.busy": "2024-01-04T16:55:34.382498Z",
     "iopub.status.idle": "2024-01-04T16:55:34.386986Z",
     "shell.execute_reply": "2024-01-04T16:55:34.386155Z"
    },
    "nbgrader": {
     "grade": false,
     "grade_id": "b5a",
     "locked": false,
     "schema_version": 3,
     "solution": true,
     "task": false
    }
   },
   "outputs": [],
   "source": [
    "def update_incoming_class(incoming_class):\n",
    "    ### BEGIN SOLUTION\n",
    "    incoming_class[2][2] = 8  # Using positive index to update Madison's grade\n",
    "    incoming_class[-3][0] = \"Ken\"  # Using negative index to update Kenny's name\n",
    "    return incoming_class\n",
    "    ### END SOLUTION"
   ]
  },
  {
   "cell_type": "code",
   "execution_count": 11,
   "id": "743f15c7-9f95-4227-a310-6d2c8d5240e3",
   "metadata": {
    "deletable": false,
    "editable": false,
    "execution": {
     "iopub.execute_input": "2024-01-04T16:55:34.391728Z",
     "iopub.status.busy": "2024-01-04T16:55:34.391077Z",
     "iopub.status.idle": "2024-01-04T16:55:34.396986Z",
     "shell.execute_reply": "2024-01-04T16:55:34.395601Z"
    },
    "nbgrader": {
     "grade": true,
     "grade_id": "b5t",
     "locked": true,
     "points": 1,
     "schema_version": 3,
     "solution": false,
     "task": false
    }
   },
   "outputs": [],
   "source": [
    "initial_list = [[\"Kenny\", \"America\", 9],\n",
    "                [\"Tanya\", \"Ukrainian\", 9],\n",
    "                [\"Madison\", \"Indian\", 7]]\n",
    "\n",
    "assert update_incoming_class(initial_list) == [[\"Ken\", \"America\", 9],\n",
    "                                               [\"Tanya\", \"Ukrainian\", 9],\n",
    "                                               [\"Madison\", \"Indian\", 8]]\n",
    "\n",
    "### BEGIN HIDDEN TESTS\n",
    "assert update_incoming_class(initial_list)[0][0] == \"Ken\"\n",
    "assert update_incoming_class(initial_list)[2][2] == 8\n",
    "### END HIDDEN TESTS"
   ]
  },
  {
   "cell_type": "markdown",
   "id": "5dc86cb7-9bb4-4b95-9c6e-295833a0a33f",
   "metadata": {
    "deletable": false,
    "editable": false,
    "nbgrader": {
     "grade": false,
     "grade_id": "b6s",
     "locked": true,
     "schema_version": 3,
     "solution": false,
     "task": false
    }
   },
   "source": [
    "### 문제 6.\n",
    "\n",
    "온도 변환 함수를 작성하세요. 화씨 온도를 섭씨 온도로 변환하는 기능을 구현합니다. \n",
    "\n",
    "함수 `f_to_c`를 작성하세요.\n",
    "\n",
    "- 함수는 하나의 매개변수를 받습니다: `f_temp` (화씨 온도, 실수형)\n",
    "- 함수는 화씨 온도를 섭씨로 변환한 후, 그 값을 반환합니다. 섭씨 온도는 `c_temp`로 표시하며, 다음의 수식을 사용하세요:\n",
    "  \n",
    "  $[\n",
    "  \\text{온도 (C)} = \\left( \\text{온도 (F)} - 32 \\right) \\times \\frac{5}{9}\n",
    "  ]$\n",
    "  \n",
    "예를 들어:\n",
    "\n",
    "- `f_temp = 32.0`의 경우, 출력은 `0.0`이어야 합니다.\n",
    "- `f_temp = 212.0`의 경우, 출력은 `100.0`이어야 합니다."
   ]
  },
  {
   "cell_type": "code",
   "execution_count": 12,
   "id": "f418ae16-3c0f-45c8-a38e-30df834e90b5",
   "metadata": {
    "deletable": false,
    "execution": {
     "iopub.execute_input": "2024-01-04T16:55:34.401661Z",
     "iopub.status.busy": "2024-01-04T16:55:34.401232Z",
     "iopub.status.idle": "2024-01-04T16:55:34.406252Z",
     "shell.execute_reply": "2024-01-04T16:55:34.405099Z"
    },
    "nbgrader": {
     "grade": false,
     "grade_id": "b6a",
     "locked": false,
     "schema_version": 3,
     "solution": true,
     "task": false
    }
   },
   "outputs": [],
   "source": [
    "def f_to_c(f_temp: float) -> float:\n",
    "    ### BEGIN SOLUTION\n",
    "    c_temp = (f_temp - 32) * 5 / 9\n",
    "    return c_temp\n",
    "    ### END SOLUTION"
   ]
  },
  {
   "cell_type": "code",
   "execution_count": 13,
   "id": "250b85d6-47a9-4c2c-9b92-1494062c9c6a",
   "metadata": {
    "deletable": false,
    "editable": false,
    "execution": {
     "iopub.execute_input": "2024-01-04T16:55:34.410463Z",
     "iopub.status.busy": "2024-01-04T16:55:34.410103Z",
     "iopub.status.idle": "2024-01-04T16:55:34.415299Z",
     "shell.execute_reply": "2024-01-04T16:55:34.414258Z"
    },
    "nbgrader": {
     "grade": true,
     "grade_id": "b6t",
     "locked": true,
     "points": 1,
     "schema_version": 3,
     "solution": false,
     "task": false
    }
   },
   "outputs": [],
   "source": [
    "assert f_to_c(32.0) == 0.0\n",
    "assert f_to_c(212.0) == 100.0\n",
    "### BEGIN HIDDEN TESTS\n",
    "assert f_to_c(98.6) == 37.0\n",
    "### END HIDDEN TESTS"
   ]
  },
  {
   "cell_type": "markdown",
   "id": "305d10e5-9fa6-41ec-a8bc-01a88040b38b",
   "metadata": {
    "deletable": false,
    "editable": false,
    "nbgrader": {
     "grade": false,
     "grade_id": "b7s",
     "locked": true,
     "schema_version": 3,
     "solution": false,
     "task": false
    }
   },
   "source": [
    "### 문제 7.\n",
    "\n",
    "\b온라인 쇼핑몰에서 고객이 장바구니에 상품을 추가하는 기능을 구현해야 합니다.\n",
    "\n",
    "함수 `add_to_cart`를 작성하세요.\n",
    "\n",
    "- 함수는 두 개의 매개변수를 받습니다: `cart` (장바구니에 담긴 상품 리스트)와 `item` (장바구니에 추가할 상품, 문자열)\n",
    "- 함수는 `item`을 `cart` 리스트의 마지막에 추가한 후, 그 결과 리스트를 반환합니다.\n",
    "\n",
    "예를 들어:\n",
    "\n",
    "- `cart = [\"사과\", \"바나나\", \"딸기\"]`, `item = \"포도\"`의 경우 출력은 `[\"사과\", \"바나나\", \"딸기\", \"포도\"]`이어야 합니다.\n",
    "- `cart = [\"치즈\", \"버터\"]`, `item = \"우유\"`의 경우 출력은 `[\"치즈\", \"버터\", \"우유\"]`이어야 합니다.\n"
   ]
  },
  {
   "cell_type": "code",
   "execution_count": 14,
   "id": "4528b537-ce4d-4b1b-8976-50470eeb4c6f",
   "metadata": {
    "deletable": false,
    "execution": {
     "iopub.execute_input": "2024-01-04T16:55:34.419929Z",
     "iopub.status.busy": "2024-01-04T16:55:34.419585Z",
     "iopub.status.idle": "2024-01-04T16:55:34.426075Z",
     "shell.execute_reply": "2024-01-04T16:55:34.424831Z"
    },
    "nbgrader": {
     "grade": false,
     "grade_id": "b7a",
     "locked": false,
     "schema_version": 3,
     "solution": true,
     "task": false
    }
   },
   "outputs": [],
   "source": [
    "def add_to_cart(cart: list[str], item: str) -> list[str]:\n",
    "    ### BEGIN SOLUTION\n",
    "    cart.append(item)\n",
    "    return cart\n",
    "    ### END SOLUTION"
   ]
  },
  {
   "cell_type": "code",
   "execution_count": 15,
   "id": "7f4ceb53-3d6b-4419-8aac-3fc36bc86919",
   "metadata": {
    "deletable": false,
    "editable": false,
    "execution": {
     "iopub.execute_input": "2024-01-04T16:55:34.430691Z",
     "iopub.status.busy": "2024-01-04T16:55:34.430321Z",
     "iopub.status.idle": "2024-01-04T16:55:34.435820Z",
     "shell.execute_reply": "2024-01-04T16:55:34.434556Z"
    },
    "nbgrader": {
     "grade": true,
     "grade_id": "b7t",
     "locked": true,
     "points": 1,
     "schema_version": 3,
     "solution": false,
     "task": false
    }
   },
   "outputs": [],
   "source": [
    "assert add_to_cart([\"사과\", \"바나나\", \"딸기\"], \"포도\") == [\"사과\", \"바나나\", \"딸기\", \"포도\"]\n",
    "assert add_to_cart([\"치즈\", \"버터\"], \"우유\") == [\"치즈\", \"버터\", \"우유\"]\n",
    "### BEGIN HIDDEN TESTS\n",
    "assert add_to_cart([], \"빵\") == [\"빵\"]\n",
    "### END HIDDEN TESTS"
   ]
  },
  {
   "cell_type": "markdown",
   "id": "0bb0f06b-01c7-4c64-a209-32fca9237547",
   "metadata": {
    "deletable": false,
    "editable": false,
    "nbgrader": {
     "grade": false,
     "grade_id": "b8s",
     "locked": true,
     "schema_version": 3,
     "solution": false,
     "task": false
    }
   },
   "source": [
    "### 문제 8.\n",
    "\n",
    "파이썬의 `if`문을 사용하여 주어진 숫자가 짝수인지 홀수인지 판별하는 함수를 작성하세요.\n",
    "\n",
    "함수 `even_or_odd`를 작성하세요.\n",
    "\n",
    "이 함수는 정수 `num`을 매개변수로 받습니다. 만약 `num`이 짝수라면 \"짝수\"를 반환하고, 홀수라면 \"홀수\"를 반환하세요.\n",
    "\n",
    "예를 들어:\n",
    "\n",
    "- `num = 4`의 경우 출력은 \"짝수\"이어야 합니다.\n",
    "\n",
    "- `num = 7`의 경우 출력은 \"홀수\"이어야 합니다.\n"
   ]
  },
  {
   "cell_type": "code",
   "execution_count": 16,
   "id": "032d7e6f-6e43-46e0-a74c-8fcce8b95d51",
   "metadata": {
    "deletable": false,
    "execution": {
     "iopub.execute_input": "2024-01-04T16:55:34.440205Z",
     "iopub.status.busy": "2024-01-04T16:55:34.439723Z",
     "iopub.status.idle": "2024-01-04T16:55:34.444483Z",
     "shell.execute_reply": "2024-01-04T16:55:34.443395Z"
    },
    "nbgrader": {
     "grade": false,
     "grade_id": "b8a",
     "locked": false,
     "schema_version": 3,
     "solution": true,
     "task": false
    }
   },
   "outputs": [],
   "source": [
    "def even_or_odd(num: int) -> str:\n",
    "    ### BEGIN SOLUTION\n",
    "    if num % 2 == 0:\n",
    "        return \"짝수\"\n",
    "    else:\n",
    "        return \"홀수\"\n",
    "    ### END SOLUTION"
   ]
  },
  {
   "cell_type": "code",
   "execution_count": 17,
   "id": "f08fc9c6-ceeb-41ba-889a-2c80161bf5d3",
   "metadata": {
    "deletable": false,
    "editable": false,
    "execution": {
     "iopub.execute_input": "2024-01-04T16:55:34.448655Z",
     "iopub.status.busy": "2024-01-04T16:55:34.448186Z",
     "iopub.status.idle": "2024-01-04T16:55:34.453697Z",
     "shell.execute_reply": "2024-01-04T16:55:34.452701Z"
    },
    "nbgrader": {
     "grade": true,
     "grade_id": "b8t",
     "locked": true,
     "points": 1,
     "schema_version": 3,
     "solution": false,
     "task": false
    }
   },
   "outputs": [],
   "source": [
    "assert even_or_odd(4) == \"짝수\"\n",
    "assert even_or_odd(7) == \"홀수\"\n",
    "assert even_or_odd(10) == \"짝수\"\n",
    "assert even_or_odd(13) == \"홀수\"\n",
    "### BEGIN HIDDEN TESTS\n",
    "assert even_or_odd(100) == \"짝수\"\n",
    "assert even_or_odd(77) == \"홀수\"\n",
    "### END HIDDEN TESTS "
   ]
  },
  {
   "cell_type": "markdown",
   "id": "73dfe103-a0e6-43f4-b2be-90da1363d379",
   "metadata": {
    "deletable": false,
    "editable": false,
    "nbgrader": {
     "grade": false,
     "grade_id": "b9s",
     "locked": true,
     "schema_version": 3,
     "solution": false,
     "task": false
    }
   },
   "source": [
    "### 문제 9.\n",
    "\n",
    "어떤 놀이공원에서는 놀이기구를 이용하기 위한 키 제한이 있습니다. 여러분은 해당 놀이기구를 탈 수 있는지의 여부를 판단하는 프로그램을 작성해야 합니다.\n",
    "\n",
    "함수 `can_ride`를 작성하세요.\n",
    "\n",
    "- 함수는 두 개의 정수 `height` (탑승자의 키)와 `age` (탑승자의 나이)를 매개변수로 받습니다.\n",
    "- 다음의 조건에 따라 문자열을 반환합니다:\n",
    "  - 만약 `height`가 140cm 이상이고 `age`가 10세 이상이면 \"탑승 가능\"을 반환합니다.\n",
    "  - 만약 `height`가 120cm 미만이거나 `age`가 5세 미만이면 \"탑승 불가\"를 반환합니다.\n",
    "  - 위의 두 조건 모두 만족하지 않는 경우 \"보호자 동반 시 탑승 가능\"을 반환합니다.\n",
    "\n",
    "예를 들어:\n",
    "\n",
    "- `height = 145`, `age = 12`의 경우 출력은 \"탑승 가능\"이어야 합니다.\n",
    "- `height = 115`, `age = 6`의 경우 출력은 \"탑승 불가\"이어야 합니다.\n",
    "- `height = 130`, `age = 7`의 경우 출력은 \"보호자 동반 시 탑승 가능\"이어야 합니다.\n"
   ]
  },
  {
   "cell_type": "code",
   "execution_count": 18,
   "id": "2cc4ca52-31db-4c5a-8f82-fb2d6f9a2823",
   "metadata": {
    "deletable": false,
    "execution": {
     "iopub.execute_input": "2024-01-04T16:55:34.457940Z",
     "iopub.status.busy": "2024-01-04T16:55:34.457584Z",
     "iopub.status.idle": "2024-01-04T16:55:34.465206Z",
     "shell.execute_reply": "2024-01-04T16:55:34.463878Z"
    },
    "nbgrader": {
     "grade": false,
     "grade_id": "b9a",
     "locked": false,
     "schema_version": 3,
     "solution": true,
     "task": false
    }
   },
   "outputs": [],
   "source": [
    "def can_ride(height: int, age: int) -> str:\n",
    "    ### BEGIN SOLUTION\n",
    "    if height >= 140 and age >= 10:\n",
    "        return \"탑승 가능\"\n",
    "    elif height < 120 or age < 5:\n",
    "        return \"탑승 불가\"\n",
    "    else:\n",
    "        return \"보호자 동반 시 탑승 가능\"\n",
    "    ### END SOLUTION"
   ]
  },
  {
   "cell_type": "code",
   "execution_count": 19,
   "id": "ea7fec9b-8942-43dc-9c4d-821696a809ea",
   "metadata": {
    "deletable": false,
    "editable": false,
    "execution": {
     "iopub.execute_input": "2024-01-04T16:55:34.469790Z",
     "iopub.status.busy": "2024-01-04T16:55:34.469439Z",
     "iopub.status.idle": "2024-01-04T16:55:34.474930Z",
     "shell.execute_reply": "2024-01-04T16:55:34.473810Z"
    },
    "nbgrader": {
     "grade": true,
     "grade_id": "b9t",
     "locked": true,
     "points": 1,
     "schema_version": 3,
     "solution": false,
     "task": false
    }
   },
   "outputs": [],
   "source": [
    "assert can_ride(145, 12) == \"탑승 가능\"\n",
    "assert can_ride(115, 6) == \"탑승 불가\"\n",
    "assert can_ride(130, 7) == \"보호자 동반 시 탑승 가능\"\n",
    "assert can_ride(138, 9) == \"보호자 동반 시 탑승 가능\"\n",
    "### BEGIN HIDDEN TESTS\n",
    "assert can_ride(142, 11) == \"탑승 가능\"\n",
    "assert can_ride(118, 4) == \"탑승 불가\"\n",
    "assert can_ride(124, 6) == \"보호자 동반 시 탑승 가능\"\n",
    "### END HIDDEN TESTS "
   ]
  },
  {
   "cell_type": "markdown",
   "id": "a8c0685e-1dd4-4d7a-a092-a7dd837a05a5",
   "metadata": {
    "deletable": false,
    "editable": false,
    "nbgrader": {
     "grade": false,
     "grade_id": "b10s",
     "locked": true,
     "schema_version": 3,
     "solution": false,
     "task": false
    }
   },
   "source": [
    "### 문제 10.\n",
    "\n",
    "당신은 노래 가사를 분석하는 프로그램을 작성하고 있습니다. 가사 내에서 특정 문자를 기준으로 문장을 나누려고 합니다.\n",
    "\n",
    "함수 `split_lyrics`를 작성하세요.\n",
    "\n",
    "- 함수는 두 개의 매개변수를 받습니다: `lyrics` (분석할 가사를 나타내는 문자열), `split_char` (가사를 나눌 기준 문자)\n",
    "- 함수는 `split_char`을 기준으로 `lyrics`를 나눈 후, 그 결과 리스트를 반환합니다.\n",
    "\n",
    "예를 들어:\n",
    "\n",
    "- `lyrics = \"나는 사과, 당근, 바나나를 좋아해\"`, `split_char = \",\"`의 경우 출력은 `[\"나는 사과\", \" 당근\", \" 바나나를 좋아해\"]`이어야 합니다.\n",
    "\n",
    "- `lyrics = \"반짝반짝 작은별 아름답게 비치네\"` , `split_char = \" \"`의 경우 출력은 `[\"반짝반짝\", \"작은별\", \"아름답게\", \"비치네\"]`이어야 합니다.\n"
   ]
  },
  {
   "cell_type": "code",
   "execution_count": 20,
   "id": "c094440b-f4d6-41aa-823c-96194ba8fd67",
   "metadata": {
    "deletable": false,
    "execution": {
     "iopub.execute_input": "2024-01-04T16:55:34.479788Z",
     "iopub.status.busy": "2024-01-04T16:55:34.478579Z",
     "iopub.status.idle": "2024-01-04T16:55:34.483301Z",
     "shell.execute_reply": "2024-01-04T16:55:34.482576Z"
    },
    "nbgrader": {
     "grade": false,
     "grade_id": "b10a",
     "locked": false,
     "schema_version": 3,
     "solution": true,
     "task": false
    }
   },
   "outputs": [],
   "source": [
    "def split_lyrics(lyrics: str, split_char: str) -> list[str]:\n",
    "    ### BEGIN SOLUTION\n",
    "    return lyrics.split(split_char)\n",
    "    ### END SOLUTION"
   ]
  },
  {
   "cell_type": "code",
   "execution_count": 21,
   "id": "78c56971-1714-4188-a21d-2069333ce96b",
   "metadata": {
    "deletable": false,
    "editable": false,
    "execution": {
     "iopub.execute_input": "2024-01-04T16:55:34.487632Z",
     "iopub.status.busy": "2024-01-04T16:55:34.486728Z",
     "iopub.status.idle": "2024-01-04T16:55:34.491894Z",
     "shell.execute_reply": "2024-01-04T16:55:34.491053Z"
    },
    "nbgrader": {
     "grade": true,
     "grade_id": "b10t",
     "locked": true,
     "points": 1,
     "schema_version": 3,
     "solution": false,
     "task": false
    }
   },
   "outputs": [],
   "source": [
    "assert split_lyrics(\"나는 사과, 당근, 바나나를 좋아해\", \",\") == [\"나는 사과\", \" 당근\", \" 바나나를 좋아해\"]\n",
    "assert split_lyrics(\"반짝반짝 작은별 아름답게 비치네\", \" \") == [\"반짝반짝\", \"작은별\", \"아름답게\", \"비치네\"]\n",
    "### BEGIN HIDDEN TESTS\n",
    "assert split_lyrics(\"A|B|C|D\", \"|\") == [\"A\", \"B\", \"C\", \"D\"]\n",
    "### END HIDDEN TESTS"
   ]
  }
 ],
 "metadata": {
  "kernelspec": {
   "display_name": "Python 3 (ipykernel)",
   "language": "python",
   "name": "python3"
  },
  "language_info": {
   "codemirror_mode": {
    "name": "ipython",
    "version": 3
   },
   "file_extension": ".py",
   "mimetype": "text/x-python",
   "name": "python",
   "nbconvert_exporter": "python",
   "pygments_lexer": "ipython3",
   "version": "3.10.12"
  },
  "widgets": {
   "application/vnd.jupyter.widget-state+json": {
    "state": {},
    "version_major": 2,
    "version_minor": 0
   }
  }
 },
 "nbformat": 4,
 "nbformat_minor": 5
}

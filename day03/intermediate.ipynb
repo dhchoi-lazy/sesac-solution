{
 "cells": [
  {
   "cell_type": "markdown",
   "id": "acc2a581",
   "metadata": {
    "deletable": false,
    "editable": false,
    "nbgrader": {
     "grade": false,
     "grade_id": "cell-d107831c9ee4d5d3",
     "locked": true,
     "schema_version": 3,
     "solution": false,
     "task": false
    }
   },
   "source": [
    "**주의사항**\n",
    " - 제출 전 커널을 재시작하고 **run all cells**를 눌러 모든 코드가 정상적으로 동작하는지 확인하세요.\n",
    " - 이름을 기입하고 Shift + Enter 를 누르세요.\n",
    " - 파일을 저장했는지 꼭 확인하세요.\n",
    " - 함수에서 `YOUR CODE HERE`라고 쓰여 있는 부분을 지우고 함수를 작성하세요.\n",
    " - 문제 아래에 테스트 코드를 실행해서 오류가 없는 지 확인해 보세요.\n",
    " - 테스트 코드를 통과했다고 해서 반드시 정답인 것은 아닙니다."
   ]
  },
  {
   "cell_type": "code",
   "execution_count": 1,
   "id": "a81b4703",
   "metadata": {
    "execution": {
     "iopub.execute_input": "2024-01-04T16:55:35.815890Z",
     "iopub.status.busy": "2024-01-04T16:55:35.815551Z",
     "iopub.status.idle": "2024-01-04T16:55:35.825275Z",
     "shell.execute_reply": "2024-01-04T16:55:35.824479Z"
    }
   },
   "outputs": [],
   "source": [
    "이름 = \"\""
   ]
  },
  {
   "cell_type": "markdown",
   "id": "e1a08d9f",
   "metadata": {},
   "source": [
    "---"
   ]
  },
  {
   "cell_type": "markdown",
   "id": "56bb3f24-1b71-4539-b6ac-71e8bd430435",
   "metadata": {
    "deletable": false,
    "editable": false,
    "nbgrader": {
     "grade": false,
     "grade_id": "i1s",
     "locked": true,
     "schema_version": 3,
     "solution": false,
     "task": false
    }
   },
   "source": [
    "### 문제 1.\n",
    "\n",
    "문자열에서 양쪽 끝에 있는 불필요한 공백이나 특정 문자를 제거하는 작업이 필요합니다. 이를 위해 `.strip()` 메서드를 사용하세요.\n",
    "\n",
    "함수 `clean_string`를 작성하세요.\n",
    "\n",
    "- 함수는 두 개의 매개변수를 받습니다: `original_str` (원본 문자열), `strip_chars` (제거할 문자. None이면 공백을 제거합니다)\n",
    "- 함수는 `strip_chars`를 사용하여 `original_str`에서 양쪽 끝의 문자 또는 공백을 제거한 후, 그 결과 문자열을 반환합니다.\n",
    "\n",
    "예를 들어:\n",
    "\n",
    "- `original_str = \"   안녕하세요   \"`, `strip_chars = None`의 경우 출력은 `\"안녕하세요\"`이어야 합니다.\n",
    "- `original_str = \"!!!경고!!!\"`, `strip_chars = \"!\"` 의 경우 출력은 ` \"경고\" `이어야 합니다.\n"
   ]
  },
  {
   "cell_type": "code",
   "execution_count": 2,
   "id": "c993a8c6-4b47-49f4-a31b-f28a1a639769",
   "metadata": {
    "deletable": false,
    "execution": {
     "iopub.execute_input": "2024-01-04T16:55:35.829334Z",
     "iopub.status.busy": "2024-01-04T16:55:35.828988Z",
     "iopub.status.idle": "2024-01-04T16:55:35.834942Z",
     "shell.execute_reply": "2024-01-04T16:55:35.834142Z"
    },
    "nbgrader": {
     "grade": false,
     "grade_id": "i1a",
     "locked": false,
     "schema_version": 3,
     "solution": true,
     "task": false
    }
   },
   "outputs": [],
   "source": [
    "def clean_string(original_str, strip_chars=None):\n",
    "    ### BEGIN SOLUTION\n",
    "    if strip_chars:\n",
    "        return original_str.strip(strip_chars)\n",
    "    else:\n",
    "        return original_str.strip()\n",
    "    ### END SOLUTION"
   ]
  },
  {
   "cell_type": "code",
   "execution_count": 3,
   "id": "8065b3c2-9e4d-449d-9f7a-45f9237f8091",
   "metadata": {
    "deletable": false,
    "editable": false,
    "execution": {
     "iopub.execute_input": "2024-01-04T16:55:35.838432Z",
     "iopub.status.busy": "2024-01-04T16:55:35.838128Z",
     "iopub.status.idle": "2024-01-04T16:55:35.842773Z",
     "shell.execute_reply": "2024-01-04T16:55:35.841813Z"
    },
    "nbgrader": {
     "grade": true,
     "grade_id": "i1t",
     "locked": true,
     "points": 2,
     "schema_version": 3,
     "solution": false,
     "task": false
    }
   },
   "outputs": [],
   "source": [
    "assert clean_string(\"   안녕하세요   \", None) == \"안녕하세요\"\n",
    "assert clean_string(\"!!!경고!!!\", \"!\") == \"경고\"\n",
    "### BEGIN HIDDEN TESTS\n",
    "assert clean_string(\"   Hello World   \", None) == \"Hello World\"\n",
    "### END HIDDEN TESTS"
   ]
  },
  {
   "cell_type": "markdown",
   "id": "1e579ee3-4cd5-4675-8553-24ee9c3d5b19",
   "metadata": {
    "deletable": false,
    "editable": false,
    "nbgrader": {
     "grade": false,
     "grade_id": "i2s",
     "locked": true,
     "schema_version": 3,
     "solution": false,
     "task": false
    }
   },
   "source": [
    "### 문제 2.\n",
    "\n",
    "함수 `get_element`를 작성하세요.\n",
    "\n",
    "주어진 리스트 `lst`와 인덱스 `index`를 사용하여 해당 위치의 요소를 반환하세요.\n",
    "\n",
    "예를 들어:\n",
    "\n",
    "- `lst = [10, 20, 30, 40, 50]`, `index = 2`의 경우 출력은 `30`이어야 합니다.\n",
    "\n",
    "- `lst = [\"안녕\", \"하세요\", \"파이썬\"]`, `index = 0`의 경우 출력은 `\"안녕\"`이어야 합니다.\n"
   ]
  },
  {
   "cell_type": "code",
   "execution_count": 4,
   "id": "184a8b3a-261c-4590-891c-a47e1b66fddf",
   "metadata": {
    "deletable": false,
    "execution": {
     "iopub.execute_input": "2024-01-04T16:55:35.846567Z",
     "iopub.status.busy": "2024-01-04T16:55:35.846251Z",
     "iopub.status.idle": "2024-01-04T16:55:35.850689Z",
     "shell.execute_reply": "2024-01-04T16:55:35.849832Z"
    },
    "nbgrader": {
     "grade": false,
     "grade_id": "i2a",
     "locked": false,
     "schema_version": 3,
     "solution": true,
     "task": false
    }
   },
   "outputs": [],
   "source": [
    "def get_element(lst: list, index: int) -> any:\n",
    "    ### BEGIN SOLUTION\n",
    "    return lst[index]\n",
    "    ### END SOLUTION"
   ]
  },
  {
   "cell_type": "code",
   "execution_count": 5,
   "id": "4d3c9ad0-78b7-4a37-ad56-fbacc01b3751",
   "metadata": {
    "deletable": false,
    "editable": false,
    "execution": {
     "iopub.execute_input": "2024-01-04T16:55:35.854128Z",
     "iopub.status.busy": "2024-01-04T16:55:35.853819Z",
     "iopub.status.idle": "2024-01-04T16:55:35.859284Z",
     "shell.execute_reply": "2024-01-04T16:55:35.858309Z"
    },
    "nbgrader": {
     "grade": true,
     "grade_id": "i2t",
     "locked": true,
     "points": 2,
     "schema_version": 3,
     "solution": false,
     "task": false
    }
   },
   "outputs": [],
   "source": [
    "assert get_element([10, 20, 30, 40, 50], 2) == 30\n",
    "assert get_element([\"안녕\", \"하세요\", \"파이썬\"], 0) == \"안녕\"\n",
    "assert get_element([True, False, True], 1) == False\n",
    "assert get_element([\"데이터\", \"베이스\", \"시스템\"], 2) == \"시스템\"\n",
    "### BEGIN HIDDEN TESTS\n",
    "assert get_element([\"이것\", \"은\", \"테스트\", \"입니다\"], 3) == \"입니다\"\n",
    "assert get_element([1, 2, 3, 4, 5, 6], 4) == 5\n",
    "### END HIDDEN TESTS "
   ]
  },
  {
   "cell_type": "markdown",
   "id": "6cfc3310-4f98-4d72-a078-447e4bc7ea92",
   "metadata": {
    "deletable": false,
    "editable": false,
    "nbgrader": {
     "grade": false,
     "grade_id": "i3s",
     "locked": true,
     "schema_version": 3,
     "solution": false,
     "task": false
    }
   },
   "source": [
    "### 문제 3.\n",
    "\n",
    "파이썬에서 튜플은 불변(immutable)입니다. 이는 튜플의 요소를 변경할 수 없다는 것을 의미합니다.\n",
    "\n",
    "함수 `modify_tuple`를 작성하세요.\n",
    "\n",
    "이 함수는 튜플 `tup`과 정수들 `index`와 `value`를 매개변수로 받습니다. 목표는 `tup`의 `index` 위치에 있는 값을 `value`로 바꾸는 것입니다. 그러나 튜플은 불변이므로 직접 변경할 수 없습니다. 따라서 함수는 새로운 튜플을 생성하여 해당 위치의 값을 변경하고 새 튜플을 반환해야 합니다.\n",
    "\n",
    "예를 들어:\n",
    "\n",
    "- `tup = (10, 20, 30, 40, 50)`, `index = 2`, `value = 100`의 경우 출력은 `(10, 20, 100, 40, 50)`이어야 합니다.\n",
    "\n",
    "- `tup = (\"안녕\", \"하세요\", \"파이썬\")`, `index = 1`, `value = \"다시\"`의 경우 출력은 `(\"안녕\", \"다시\", \"파이썬\")`이어야 합니다.\n"
   ]
  },
  {
   "cell_type": "code",
   "execution_count": 6,
   "id": "f7c4d70c-d2fb-4a85-b9ef-c19b7735b1e6",
   "metadata": {
    "deletable": false,
    "execution": {
     "iopub.execute_input": "2024-01-04T16:55:35.863718Z",
     "iopub.status.busy": "2024-01-04T16:55:35.863338Z",
     "iopub.status.idle": "2024-01-04T16:55:35.867732Z",
     "shell.execute_reply": "2024-01-04T16:55:35.867008Z"
    },
    "nbgrader": {
     "grade": false,
     "grade_id": "i3a",
     "locked": false,
     "schema_version": 3,
     "solution": true,
     "task": false
    }
   },
   "outputs": [],
   "source": [
    "def modify_tuple(tup: tuple, index: int, value: any) -> tuple:\n",
    "    ### BEGIN SOLUTION\n",
    "    lst = list(tup)\n",
    "    lst[index] = value\n",
    "    return tuple(lst)\n",
    "    ### END SOLUTION"
   ]
  },
  {
   "cell_type": "code",
   "execution_count": 7,
   "id": "f9aa4e7f-0a9c-44d9-a3a4-ee62fbcfb08c",
   "metadata": {
    "deletable": false,
    "editable": false,
    "execution": {
     "iopub.execute_input": "2024-01-04T16:55:35.871036Z",
     "iopub.status.busy": "2024-01-04T16:55:35.870727Z",
     "iopub.status.idle": "2024-01-04T16:55:35.877292Z",
     "shell.execute_reply": "2024-01-04T16:55:35.876237Z"
    },
    "nbgrader": {
     "grade": true,
     "grade_id": "i3t",
     "locked": true,
     "points": 2,
     "schema_version": 3,
     "solution": false,
     "task": false
    }
   },
   "outputs": [],
   "source": [
    "assert modify_tuple((10, 20, 30, 40, 50), 2, 100) == (10, 20, 100, 40, 50)\n",
    "assert modify_tuple((\"안녕\", \"하세요\", \"파이썬\"), 1, \"다시\") == (\"안녕\", \"다시\", \"파이썬\")\n",
    "assert modify_tuple((True, False, True), 1, True) == (True, True, True)\n",
    "assert modify_tuple((\"데이터\", \"베이스\", \"시스템\"), 2, \"디자인\") == (\"데이터\", \"베이스\", \"디자인\")\n",
    "### BEGIN HIDDEN TESTS\n",
    "assert modify_tuple((\"이것\", \"은\", \"테스트\"), 1, \"정말\") == (\"이것\", \"정말\", \"테스트\")\n",
    "assert modify_tuple((1, 2, 3, 4, 5, 6, 7, 8, 9), 4, 0) == (1, 2, 3, 4, 0, 6, 7, 8, 9)\n",
    "### END HIDDEN TESTS "
   ]
  },
  {
   "cell_type": "markdown",
   "id": "6e9c614b-790a-4875-b262-8877aff1d0bc",
   "metadata": {
    "deletable": false,
    "editable": false,
    "nbgrader": {
     "grade": false,
     "grade_id": "i4s",
     "locked": true,
     "schema_version": 3,
     "solution": false,
     "task": false
    }
   },
   "source": [
    "### 문제 4.\n",
    "\n",
    "웹사이트에서 회원이 비밀번호를 잊어 버린 경우, 이를 다시 알려주는 기능을 만들고자 합니다. 아래에는 이메일 주소를 키로 하고 비밀번호를 값으로 하는 딕셔너리가 있습니다.\n",
    "\n",
    "함수 `return_password`를 작성하세요.\n",
    "\n",
    "- 함수는 두 개의 매개변수를 받습니다: `email_db` (이메일과 비밀번호를 저장하는 딕셔너리)와 `email` (확인하려는 이메일 주소).\n",
    "- 함수는 이메일 주소가 `email_db`에 등록되어 있으면 비밀번호를, 그렇지 않으면 `False`를 반환합니다.\n",
    "\n",
    "예를 들어:\n",
    "\n",
    "- `email_db = {\"alice@email.com\": \"1234\", \"bob@email.com\": \"abcd\"}`, `email = \"alice@email.com\"`의 경우 출력은 `1234`이어야 합니다.\n",
    "- `email_db = {\"alice@email.com\": \"1234\", \"bob@email.com\": \"abcd\"}`, `email = \"charlie@email.com\"`의 경우 출력은 `False`이어야 합니다.\n"
   ]
  },
  {
   "cell_type": "code",
   "execution_count": 8,
   "id": "f14a0aa9-fe33-4192-9e06-c6ccc41009dc",
   "metadata": {
    "deletable": false,
    "execution": {
     "iopub.execute_input": "2024-01-04T16:55:35.881483Z",
     "iopub.status.busy": "2024-01-04T16:55:35.880760Z",
     "iopub.status.idle": "2024-01-04T16:55:35.885902Z",
     "shell.execute_reply": "2024-01-04T16:55:35.884844Z"
    },
    "nbgrader": {
     "grade": false,
     "grade_id": "i4a",
     "locked": false,
     "schema_version": 3,
     "solution": true,
     "task": false
    }
   },
   "outputs": [],
   "source": [
    "def return_password(email_db: dict, email: str) -> bool:\n",
    "    ### BEGIN SOLUTION\n",
    "    return email_db.get(email,False)\n",
    "    ### END SOLUTION"
   ]
  },
  {
   "cell_type": "code",
   "execution_count": 9,
   "id": "7a915d22-4200-4c91-8c24-25263aa85573",
   "metadata": {
    "deletable": false,
    "editable": false,
    "execution": {
     "iopub.execute_input": "2024-01-04T16:55:35.890142Z",
     "iopub.status.busy": "2024-01-04T16:55:35.889806Z",
     "iopub.status.idle": "2024-01-04T16:55:35.894706Z",
     "shell.execute_reply": "2024-01-04T16:55:35.893932Z"
    },
    "nbgrader": {
     "grade": true,
     "grade_id": "i4t",
     "locked": true,
     "points": 2,
     "schema_version": 3,
     "solution": false,
     "task": false
    }
   },
   "outputs": [],
   "source": [
    "assert return_password({\"alice@email.com\": \"1234\", \"bob@email.com\": \"abcd\"}, \"alice@email.com\") == \"1234\"\n",
    "assert return_password({\"alice@email.com\": \"1234\", \"bob@email.com\": \"abcd\"}, \"charlie@email.com\") == False\n",
    "### BEGIN HIDDEN TESTS\n",
    "assert return_password({\"david@email.com\": \"qwerty\", \"emily@email.com\": \"asdfg\"}, \"emily@email.com\") == \"asdfg\"\n",
    "assert return_password({\"david@email.com\": \"qwerty\", \"emily@email.com\": \"asdfg\"}, \"james@email.com\") == False\n",
    "### END HIDDEN TESTS"
   ]
  },
  {
   "cell_type": "markdown",
   "id": "a2bb78ed-23bb-4e20-bd1d-1303d0c3c50c",
   "metadata": {
    "deletable": false,
    "editable": false,
    "nbgrader": {
     "grade": false,
     "grade_id": "i5s",
     "locked": true,
     "schema_version": 3,
     "solution": false,
     "task": false
    }
   },
   "source": [
    "### 문제 5.\n",
    "\n",
    "여러분은 편의점 사장님입니다. 편의점 관리를 위해 재고 관리하는 파이썬 프로그램을 만들고 있습니다. `update_inventory`라는 함수를 작성하세요.\n",
    "\n",
    "- 함수는 두 개의 매개변수를 받습니다: `inventory` (제품명을 키로, 수량을 값으로 가지는 딕셔너리), `new_stock` (새로 들어온 제품과 수량을 가진 딕셔너리).\n",
    "- 함수는 `new_stock` 딕셔너리의 모든 항목을 `inventory`에 추가합니다. 이미 존재하는 제품의 경우 수량을 업데이트합니다.\n",
    "- 함수는 업데이트된 `inventory` 딕셔너리를 반환합니다.\n",
    "\n",
    "예를 들어:\n",
    "\n",
    "- `inventory = {\"삼각김밥\": 5, \"우유\": 10}`, `new_stock = {\"삼각김밥\": 3, \"여명808\": 7}`의 경우 출력은 `{\"삼각김밥: 8, \"우유\": 10, \"여명808\": 7}`이어야 합니다.\n",
    "\n"
   ]
  },
  {
   "cell_type": "code",
   "execution_count": 10,
   "id": "61a90a2d-16a2-4539-a222-6f946daec85c",
   "metadata": {
    "deletable": false,
    "execution": {
     "iopub.execute_input": "2024-01-04T16:55:35.898892Z",
     "iopub.status.busy": "2024-01-04T16:55:35.897915Z",
     "iopub.status.idle": "2024-01-04T16:55:35.903030Z",
     "shell.execute_reply": "2024-01-04T16:55:35.902203Z"
    },
    "nbgrader": {
     "grade": false,
     "grade_id": "i5a",
     "locked": false,
     "schema_version": 3,
     "solution": true,
     "task": false
    }
   },
   "outputs": [],
   "source": [
    "def update_inventory(inventory: dict, new_stock: dict) -> dict:\n",
    "    ### BEGIN SOLUTION\n",
    "    for item, quantity in new_stock.items():\n",
    "        inventory[item] = inventory.get(item, 0) + quantity\n",
    "    return inventory\n",
    "    ### END SOLUTION"
   ]
  },
  {
   "cell_type": "code",
   "execution_count": 11,
   "id": "00b2721a-151b-47b3-83ac-cb51a68c3ee6",
   "metadata": {
    "deletable": false,
    "editable": false,
    "execution": {
     "iopub.execute_input": "2024-01-04T16:55:35.907007Z",
     "iopub.status.busy": "2024-01-04T16:55:35.906674Z",
     "iopub.status.idle": "2024-01-04T16:55:35.912036Z",
     "shell.execute_reply": "2024-01-04T16:55:35.910895Z"
    },
    "nbgrader": {
     "grade": true,
     "grade_id": "i5t",
     "locked": true,
     "points": 2,
     "schema_version": 3,
     "solution": false,
     "task": false
    }
   },
   "outputs": [],
   "source": [
    "assert update_inventory({\"apple\": 5, \"banana\": 10}, {\"apple\": 3, \"cherry\": 7}) == {\"apple\": 8, \"banana\": 10, \"cherry\": 7}\n",
    "assert update_inventory({\"milk\": 2, \"bread\": 3}, {\"bread\": 1, \"juice\": 4}) == {\"milk\": 2, \"bread\": 4, \"juice\": 4}\n",
    "### BEGIN HIDDEN TESTS\n",
    "assert update_inventory({\"coffee\": 5, \"tea\": 7}, {\"coffee\": 2, \"sugar\": 1}) == {\"coffee\": 7, \"tea\": 7, \"sugar\": 1}\n",
    "### END HIDDEN TESTS"
   ]
  },
  {
   "cell_type": "markdown",
   "id": "3dccea01-4c2b-4eaa-9ef9-083c9749b849",
   "metadata": {
    "deletable": false,
    "editable": false,
    "nbgrader": {
     "grade": false,
     "grade_id": "i6s",
     "locked": true,
     "schema_version": 3,
     "solution": false,
     "task": false
    }
   },
   "source": [
    "### 문제 6.\n",
    "\n",
    "당신은 웹사이트에서 회원가입 양식을 검증하는 코드를 작성하고 있습니다. 사용자로부터 입력 받은 정보는 딕셔너리에 저장됩니다. 검증해야 할 필드는 \"username\", \"email\", \"age\"입니다.\n",
    "\n",
    "함수 `validate_form`를 작성하세요.\n",
    "\n",
    "- 함수는 하나의 매개변수를 받습니다: `user_data` (사용자 정보를 담고 있는 딕셔너리)\n",
    "- 함수는 딕셔너리 내용을 검증하여 새로운 딕셔너리를 생성합니다. 이때, 각 필드가 유효한지 여부 (True 또는 False)를 나타내어야 합니다. (예: 'username': True)\n",
    "    - \"username\": 사용자 이름이 5글자 이상인지 검증\n",
    "    - \"email\": '@' 문자가 포함되어 있는지 검증\n",
    "    - \"age\": 나이가 18세 이상인지 검증\n",
    "\n",
    "예를 들어:\n",
    "\n",
    "- `user_data = {'username': 'john', 'email': 'john@email.com', 'age': 20}`의 경우 출력은 `{'username': False, 'email': True, 'age': True}`이어야 합니다.\n"
   ]
  },
  {
   "cell_type": "code",
   "execution_count": 12,
   "id": "80958979-3702-4d52-b446-52daafad2658",
   "metadata": {
    "deletable": false,
    "execution": {
     "iopub.execute_input": "2024-01-04T16:55:35.916617Z",
     "iopub.status.busy": "2024-01-04T16:55:35.916213Z",
     "iopub.status.idle": "2024-01-04T16:55:35.921632Z",
     "shell.execute_reply": "2024-01-04T16:55:35.920471Z"
    },
    "nbgrader": {
     "grade": false,
     "grade_id": "i6a",
     "locked": false,
     "schema_version": 3,
     "solution": true,
     "task": false
    }
   },
   "outputs": [],
   "source": [
    "def validate_form(user_data: dict) -> dict:\n",
    "    ### BEGIN SOLUTION\n",
    "    return {k: len(v) >= 5 if k == 'username' else '@' in v if k == 'email' else v >= 18 for k, v in user_data.items()}\n",
    "    ### END SOLUTION"
   ]
  },
  {
   "cell_type": "code",
   "execution_count": 13,
   "id": "52a3ef18-880f-47d6-943e-3e0fb2abda31",
   "metadata": {
    "deletable": false,
    "editable": false,
    "execution": {
     "iopub.execute_input": "2024-01-04T16:55:35.925775Z",
     "iopub.status.busy": "2024-01-04T16:55:35.925443Z",
     "iopub.status.idle": "2024-01-04T16:55:35.930685Z",
     "shell.execute_reply": "2024-01-04T16:55:35.929857Z"
    },
    "nbgrader": {
     "grade": true,
     "grade_id": "i6t",
     "locked": true,
     "points": 2,
     "schema_version": 3,
     "solution": false,
     "task": false
    }
   },
   "outputs": [],
   "source": [
    "assert validate_form({'username': 'john', 'email': 'john@email.com', 'age': 20}) == {'username': False, 'email': True, 'age': True}\n",
    "assert validate_form({'username': 'johnny', 'email': 'john.com', 'age': 16}) == {'username': True, 'email': False, 'age': False}\n",
    "### BEGIN HIDDEN TESTS\n",
    "assert validate_form({'username': 'michael', 'email': 'michael@email.com', 'age': 25}) == {'username': True, 'email': True, 'age': True}\n",
    "### END HIDDEN TESTS"
   ]
  },
  {
   "cell_type": "markdown",
   "id": "409ea819-4021-4379-bbe0-a7753c057640",
   "metadata": {
    "deletable": false,
    "editable": false,
    "nbgrader": {
     "grade": false,
     "grade_id": "i7s",
     "locked": true,
     "schema_version": 3,
     "solution": false,
     "task": false
    }
   },
   "source": [
    "### 문제 7.\n",
    "\n",
    "당신은 소셜 미디어 서비스의 개발자입니다. 각 사용자가 팔로우하는 사람들의 목록을 딕셔너리로 관리하려고 합니다.\n",
    "\n",
    "함수 `create_following_dict`를 작성하세요.\n",
    "\n",
    "- 함수는 두 개의 리스트를 매개변수로 받습니다: `users` (사용자 이름을 담은 리스트)와 `following` (팔로우하는 사람의 수를 담은 리스트).\n",
    "- 두 리스트는 동일한 길이를 가집니다.\n",
    "- 함수는 사용자 이름을 키로, 팔로우하는 사람의 수를 값으로 가지는 딕셔너리를 반환합니다.\n",
    "- 단, 팔로우하는 사람이 5명 미만인 사용자는 딕셔너리에 포함되면 안 됩니다.\n",
    "\n",
    "예를 들어:\n",
    "\n",
    "- `users = [\"Alice\", \"Bob\", \"Charlie\"]`, `following = [3, 7, 5]`의 경우 출력은 `{'Bob': 7, 'Charlie': 5}`이어야 합니다.\n"
   ]
  },
  {
   "cell_type": "code",
   "execution_count": 14,
   "id": "b5e379dc-98b6-4478-8267-3fceae4d70c6",
   "metadata": {
    "deletable": false,
    "execution": {
     "iopub.execute_input": "2024-01-04T16:55:35.934556Z",
     "iopub.status.busy": "2024-01-04T16:55:35.934245Z",
     "iopub.status.idle": "2024-01-04T16:55:35.938292Z",
     "shell.execute_reply": "2024-01-04T16:55:35.937614Z"
    },
    "nbgrader": {
     "grade": false,
     "grade_id": "i7a",
     "locked": false,
     "schema_version": 3,
     "solution": true,
     "task": false
    }
   },
   "outputs": [],
   "source": [
    "def create_following_dict(users: list, following: list) -> dict:\n",
    "    ### BEGIN SOLUTION\n",
    "    return {users[i]: following[i] for i in range(len(users)) if following[i] >= 5}\n",
    "    ### END SOLUTION"
   ]
  },
  {
   "cell_type": "code",
   "execution_count": 15,
   "id": "5419a3dd-714b-4a39-af7a-eedf739ccad3",
   "metadata": {
    "deletable": false,
    "editable": false,
    "execution": {
     "iopub.execute_input": "2024-01-04T16:55:35.942193Z",
     "iopub.status.busy": "2024-01-04T16:55:35.941700Z",
     "iopub.status.idle": "2024-01-04T16:55:35.946405Z",
     "shell.execute_reply": "2024-01-04T16:55:35.945378Z"
    },
    "nbgrader": {
     "grade": true,
     "grade_id": "i7t",
     "locked": true,
     "points": 2,
     "schema_version": 3,
     "solution": false,
     "task": false
    }
   },
   "outputs": [],
   "source": [
    "assert create_following_dict([\"Alice\", \"Bob\", \"Charlie\"], [3, 7, 5]) == {'Bob': 7, 'Charlie': 5}\n",
    "assert create_following_dict([\"David\", \"Emily\", \"Frank\"], [2, 6, 1]) == {'Emily': 6}\n",
    "### BEGIN HIDDEN TESTS\n",
    "assert create_following_dict([\"George\", \"Hannah\"], [4, 8]) == {'Hannah': 8}\n",
    "### END HIDDEN TESTS "
   ]
  },
  {
   "cell_type": "markdown",
   "id": "dfd156e4-4d73-4985-9c02-6d12a8aec46a",
   "metadata": {
    "deletable": false,
    "editable": false,
    "nbgrader": {
     "grade": false,
     "grade_id": "i8s",
     "locked": true,
     "schema_version": 3,
     "solution": false,
     "task": false
    }
   },
   "source": [
    "### 문제 8.\n",
    "\n",
    "'무궁화 꽃이 피었습니다' 게임에서 참가자들은 무궁화 꽃이 피었을 때 움직이고, 꽃이 지면 정지해야 합니다. 참가자 중 무작위로 하나가 당첨자가 됩니다. 함수 `mugunghwa_game`를 작성하세요.\n",
    "\n",
    "- 함수는 두 개의 매개변수를 받습니다:\n",
    "    - n (게임을 진행할 횟수, 정수)\n",
    "    - participants (게임에 참가하는 사람들의 이름을 담은 리스트)\n",
    "- 함수는 무궁화 꽃이 피었을 때 1부터 n까지 숫자를 출력하고, n이 출력되고 나면 무작위로 선택된 당첨자의 이름을 출력합니다.\n",
    "- 함수는 출력된 문자열 리스트를 반환합니다.\n",
    "예를 들어:\n",
    "\n",
    "`n = 3`, `participants = ['Alice', 'Bob', 'Charlie']`\n",
    "출력은 `['1', '2', '3', 'Alice']` 또는 `['1', '2', '3', 'Bob']` 또는 `['1', '2', '3', 'Charlie']`\n",
    "\n",
    "**주의**\n",
    "1. 숫자가 아닌 문자열로 숫자가 출력된다는 것을 유의하세요.\n",
    "2. choice 메소드를 잘 떠올려 보세요.\n"
   ]
  },
  {
   "cell_type": "code",
   "execution_count": 16,
   "id": "74fae901-d181-4ca7-af24-ba158721d00e",
   "metadata": {
    "deletable": false,
    "execution": {
     "iopub.execute_input": "2024-01-04T16:55:35.950453Z",
     "iopub.status.busy": "2024-01-04T16:55:35.950105Z",
     "iopub.status.idle": "2024-01-04T16:55:35.955291Z",
     "shell.execute_reply": "2024-01-04T16:55:35.954480Z"
    },
    "nbgrader": {
     "grade": false,
     "grade_id": "i8a",
     "locked": false,
     "schema_version": 3,
     "solution": true,
     "task": false
    }
   },
   "outputs": [],
   "source": [
    "import random\n",
    "\n",
    "def mugunghwa_game(n: int, participants: list) -> list:\n",
    "    ### BEGIN SOLUTION\n",
    "    output = [str(i) for i in range(1, n + 1)]\n",
    "    winner = random.choice(participants)\n",
    "    output.append(winner)\n",
    "    return output\n",
    "    ### END SOLUTION"
   ]
  },
  {
   "cell_type": "code",
   "execution_count": 17,
   "id": "8e17aa5e-9084-4895-a482-3e66392ce452",
   "metadata": {
    "deletable": false,
    "editable": false,
    "execution": {
     "iopub.execute_input": "2024-01-04T16:55:35.959513Z",
     "iopub.status.busy": "2024-01-04T16:55:35.958967Z",
     "iopub.status.idle": "2024-01-04T16:55:35.963796Z",
     "shell.execute_reply": "2024-01-04T16:55:35.962891Z"
    },
    "nbgrader": {
     "grade": true,
     "grade_id": "i8t",
     "locked": true,
     "points": 2,
     "schema_version": 3,
     "solution": false,
     "task": false
    }
   },
   "outputs": [],
   "source": [
    "assert mugunghwa_game(3, ['Alice', 'Bob', 'Charlie']) in [['1', '2', '3', 'Alice'], ['1', '2', '3', 'Bob'], ['1', '2', '3', 'Charlie']]\n",
    "### BEGIN HIDDEN TESTS\n",
    "assert mugunghwa_game(2, ['David', 'Emily']) in [['1', '2', 'David'], ['1', '2', 'Emily']]\n",
    "### END HIDDEN TESTS"
   ]
  },
  {
   "cell_type": "markdown",
   "id": "e57dd2e1-53f5-48db-a6f0-664bfecf97d8",
   "metadata": {
    "deletable": false,
    "editable": false,
    "nbgrader": {
     "grade": false,
     "grade_id": "i9s",
     "locked": true,
     "schema_version": 3,
     "solution": false,
     "task": false
    }
   },
   "source": [
    "### 문제 9.\n",
    "\n",
    "각 팀의 멤버 명단이 하나의 리스트로 주어지고, 모든 팀의 명단은 하나의 리스트에 묶여 있습니다. 모든 팀의 명단을 순서대로 출력하는 함수 `flatten_team_members`를 작성하세요.\n",
    "\n",
    "- 함수는 하나의 매개변수를 받습니다: `project_teams` (모든 팀의 멤버 명단을 포함하는 2차원 리스트).\n",
    "- 함수는 모든 팀의 멤버를 포함하는 하나의 '평평한' 리스트를 반환합니다. 리스트에 나타나는 이름의 순서는 원래의 2차원 리스트에 나타난 순서와 동일해야 합니다.\n",
    "\n",
    "예를 들어,\n",
    "\n",
    "- `project_teams = [[\"Ava\", \"Samantha\", \"James\"], [\"Lucille\", \"Zed\"], [\"Edgar\", \"Gabriel\"]]`의 경우, 반환되는 리스트는 `[\"Ava\", \"Samantha\", \"James\", \"Lucille\", \"Zed\", \"Edgar\", \"Gabriel\"]`이어야 합니다.\n"
   ]
  },
  {
   "cell_type": "code",
   "execution_count": 18,
   "id": "f3fdaf18-fd40-4d89-93d7-8c71274f206e",
   "metadata": {
    "deletable": false,
    "execution": {
     "iopub.execute_input": "2024-01-04T16:55:35.968211Z",
     "iopub.status.busy": "2024-01-04T16:55:35.967657Z",
     "iopub.status.idle": "2024-01-04T16:55:35.972005Z",
     "shell.execute_reply": "2024-01-04T16:55:35.971222Z"
    },
    "nbgrader": {
     "grade": false,
     "grade_id": "i9a",
     "locked": false,
     "schema_version": 3,
     "solution": true,
     "task": false
    }
   },
   "outputs": [],
   "source": [
    "def flatten_team_members(project_teams: list[list[str]]) -> list[str]:\n",
    "    ### BEGIN SOLUTION\n",
    "    flat_list = []\n",
    "    for team in project_teams:\n",
    "        for student in team:\n",
    "            flat_list.append(student)\n",
    "    return flat_list\n",
    "    ### END SOLUTION"
   ]
  },
  {
   "cell_type": "code",
   "execution_count": 19,
   "id": "4b1c1cbf-92a4-44e5-9670-f6d39dbea03b",
   "metadata": {
    "deletable": false,
    "editable": false,
    "execution": {
     "iopub.execute_input": "2024-01-04T16:55:35.976214Z",
     "iopub.status.busy": "2024-01-04T16:55:35.975703Z",
     "iopub.status.idle": "2024-01-04T16:55:35.980264Z",
     "shell.execute_reply": "2024-01-04T16:55:35.979526Z"
    },
    "nbgrader": {
     "grade": true,
     "grade_id": "i9t",
     "locked": true,
     "points": 2,
     "schema_version": 3,
     "solution": false,
     "task": false
    }
   },
   "outputs": [],
   "source": [
    "assert flatten_team_members([[\"Ava\", \"Samantha\", \"James\"], [\"Lucille\", \"Zed\"], [\"Edgar\", \"Gabriel\"]]) == [\"Ava\", \"Samantha\", \"James\", \"Lucille\", \"Zed\", \"Edgar\", \"Gabriel\"]\n",
    "### BEGIN HIDDEN TESTS\n",
    "assert flatten_team_members([[\"Alice\"], [\"Bob\", \"Charlie\"], [\"Dave\"]]) == [\"Alice\", \"Bob\", \"Charlie\", \"Dave\"]\n",
    "### END HIDDEN TESTS"
   ]
  },
  {
   "cell_type": "markdown",
   "id": "093c740f-5bc5-4c70-a900-929a93ac1121",
   "metadata": {
    "deletable": false,
    "editable": false,
    "nbgrader": {
     "grade": false,
     "grade_id": "i10s",
     "locked": true,
     "schema_version": 3,
     "solution": false,
     "task": false
    }
   },
   "source": [
    "### 문제 10.\n",
    "\n",
    "`math` 모듈을 사용하여 두 점 사이의 거리를 계산하는 함수 `calculate_distance`를 작성하세요.\n",
    "\n",
    "- 함수는 네 개의 매개변수를 받습니다: `x1, y1, x2, y2` (첫 번째 점의 x, y 좌표와 두 번째 점의 x, y 좌표).\n",
    "- 함수는 두 점 사이의 거리를 반환합니다. 거리는 소수점 둘째 자리까지 반올림해야 합니다.\n",
    "\n",
    "예를 들어:\n",
    "\n",
    "- `x1 = 0, y1 = 0, x2 = 3, y2 = 4`의 경우 출력은 `5.0`이어야 합니다.\n",
    "\n",
    "**힌트**: `math.sqrt` 함수와 `math.pow` 함수를 사용할 수 있습니다.\n",
    "\n"
   ]
  },
  {
   "cell_type": "code",
   "execution_count": 20,
   "id": "6f5a01a1-156f-48bd-a774-1c60973e1268",
   "metadata": {
    "deletable": false,
    "execution": {
     "iopub.execute_input": "2024-01-04T16:55:35.984290Z",
     "iopub.status.busy": "2024-01-04T16:55:35.983922Z",
     "iopub.status.idle": "2024-01-04T16:55:35.989305Z",
     "shell.execute_reply": "2024-01-04T16:55:35.988194Z"
    },
    "nbgrader": {
     "grade": false,
     "grade_id": "i10a",
     "locked": false,
     "schema_version": 3,
     "solution": true,
     "task": false
    }
   },
   "outputs": [],
   "source": [
    "import math\n",
    "def calculate_distance(x1: float, y1: float, x2: float, y2: float) -> float:\n",
    "    ### BEGIN SOLUTION\n",
    "    distance = math.sqrt(math.pow(x2 - x1, 2) + math.pow(y2 - y1, 2))\n",
    "    return round(distance, 2)\n",
    "    ### END SOLUTION"
   ]
  },
  {
   "cell_type": "code",
   "execution_count": 21,
   "id": "d3ea1447-4de6-42b2-9c98-f4b64541adcb",
   "metadata": {
    "deletable": false,
    "editable": false,
    "execution": {
     "iopub.execute_input": "2024-01-04T16:55:35.994086Z",
     "iopub.status.busy": "2024-01-04T16:55:35.993280Z",
     "iopub.status.idle": "2024-01-04T16:55:35.998643Z",
     "shell.execute_reply": "2024-01-04T16:55:35.997413Z"
    },
    "nbgrader": {
     "grade": true,
     "grade_id": "i10t",
     "locked": true,
     "points": 2,
     "schema_version": 3,
     "solution": false,
     "task": false
    }
   },
   "outputs": [],
   "source": [
    "assert calculate_distance(0, 0, 3, 4) == 5.0\n",
    "assert calculate_distance(1, 1, 4, 5) == 5.0\n",
    "### BEGIN HIDDEN TESTS\n",
    "assert calculate_distance(2, 2, 3, 3) == 1.41\n",
    "### END HIDDEN TESTS"
   ]
  }
 ],
 "metadata": {
  "kernelspec": {
   "display_name": "Python 3 (ipykernel)",
   "language": "python",
   "name": "python3"
  },
  "language_info": {
   "codemirror_mode": {
    "name": "ipython",
    "version": 3
   },
   "file_extension": ".py",
   "mimetype": "text/x-python",
   "name": "python",
   "nbconvert_exporter": "python",
   "pygments_lexer": "ipython3",
   "version": "3.10.12"
  },
  "widgets": {
   "application/vnd.jupyter.widget-state+json": {
    "state": {},
    "version_major": 2,
    "version_minor": 0
   }
  }
 },
 "nbformat": 4,
 "nbformat_minor": 5
}

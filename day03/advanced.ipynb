{
 "cells": [
  {
   "cell_type": "markdown",
   "id": "0df0f408",
   "metadata": {
    "deletable": false,
    "editable": false,
    "nbgrader": {
     "grade": false,
     "grade_id": "cell-d107831c9ee4d5d3",
     "locked": true,
     "schema_version": 3,
     "solution": false,
     "task": false
    }
   },
   "source": [
    "**주의사항**\n",
    " - 제출 전 커널을 재시작하고 **run all cells**를 눌러 모든 코드가 정상적으로 동작하는지 확인하세요.\n",
    " - 이름을 기입하고 Shift + Enter 를 누르세요.\n",
    " - 파일을 저장했는지 꼭 확인하세요.\n",
    " - 함수에서 `YOUR CODE HERE`라고 쓰여 있는 부분을 지우고 함수를 작성하세요.\n",
    " - 문제 아래에 테스트 코드를 실행해서 오류가 없는 지 확인해 보세요.\n",
    " - 테스트 코드를 통과했다고 해서 반드시 정답인 것은 아닙니다."
   ]
  },
  {
   "cell_type": "code",
   "execution_count": 1,
   "id": "c15f98b4",
   "metadata": {
    "execution": {
     "iopub.execute_input": "2024-01-04T16:55:32.809576Z",
     "iopub.status.busy": "2024-01-04T16:55:32.809230Z",
     "iopub.status.idle": "2024-01-04T16:55:32.820644Z",
     "shell.execute_reply": "2024-01-04T16:55:32.819684Z"
    }
   },
   "outputs": [],
   "source": [
    "이름 = \"\""
   ]
  },
  {
   "cell_type": "markdown",
   "id": "33859907",
   "metadata": {},
   "source": [
    "---"
   ]
  },
  {
   "cell_type": "markdown",
   "id": "d0b21a6f-17f1-4ddc-8799-4b33b6b107cd",
   "metadata": {
    "deletable": false,
    "editable": false,
    "nbgrader": {
     "grade": false,
     "grade_id": "a1s",
     "locked": true,
     "schema_version": 3,
     "solution": false,
     "task": false
    }
   },
   "source": [
    "### 문제 1.\n",
    "\n",
    "문자열에서 콤마로 구분된 단어를 추출하고 공백을 제거한 후, 다시 단어를 공백으로 연결하는 함수 `process_string`를 작성하세요.\n",
    "\n",
    "- 함수는 하나의 매개변수를 받습니다: `input_str` (처리할 문자열).\n",
    "- 함수는 문자열을 콤마 `,` 로 분리하고, 각 단어의 앞뒤 공백을 제거해야 합니다.\n",
    "- 마지막으로, 단어들을 하나의 문자열로 `공백`으로 이어붙여 반환합니다.\n",
    "- `,`가 있었던 자리가 공백으로 처리되어 있을 수 있기 때문에 문자열 양끝에 공백이 있다면 다시 한 번 처리해 줘야 합니다.\n",
    "\n",
    "예를 들어:\n",
    "\n",
    "- `input_str = \"  apple, banana , cherry  \"`의 경우 출력은 `\"apple banana cherry\"`이어야 합니다.\n",
    "- `input_str = \"  hello, world , \"`의 경우 출력은 `\"hello world\"`이어야 합니다.\n"
   ]
  },
  {
   "cell_type": "code",
   "execution_count": 2,
   "id": "9303a9ba-b5b4-4e53-9bbc-6f7abf69fcec",
   "metadata": {
    "deletable": false,
    "execution": {
     "iopub.execute_input": "2024-01-04T16:55:32.825197Z",
     "iopub.status.busy": "2024-01-04T16:55:32.824833Z",
     "iopub.status.idle": "2024-01-04T16:55:32.830136Z",
     "shell.execute_reply": "2024-01-04T16:55:32.829118Z"
    },
    "nbgrader": {
     "grade": false,
     "grade_id": "a1a",
     "locked": false,
     "schema_version": 3,
     "solution": true,
     "task": false
    }
   },
   "outputs": [],
   "source": [
    "def process_string(input_str: str) -> str:\n",
    "    ### BEGIN SOLUTION\n",
    "    s = [i.strip(\" \") for i in input_str.split(\",\")]\n",
    "    return \" \".join(s).strip(' ')\n",
    "    ### END SOLUTION"
   ]
  },
  {
   "cell_type": "code",
   "execution_count": 3,
   "id": "6b896ffa-2632-4db2-aa4b-29f5277753d9",
   "metadata": {
    "deletable": false,
    "editable": false,
    "execution": {
     "iopub.execute_input": "2024-01-04T16:55:32.834492Z",
     "iopub.status.busy": "2024-01-04T16:55:32.834133Z",
     "iopub.status.idle": "2024-01-04T16:55:32.839619Z",
     "shell.execute_reply": "2024-01-04T16:55:32.838361Z"
    },
    "nbgrader": {
     "grade": true,
     "grade_id": "a1t",
     "locked": true,
     "points": 3,
     "schema_version": 3,
     "solution": false,
     "task": false
    }
   },
   "outputs": [],
   "source": [
    "assert process_string(\"  apple, banana , cherry  \") == \"apple banana cherry\"\n",
    "assert process_string(\"dog,  cat ,bird\") == \"dog cat bird\"\n",
    "assert process_string(\"  hello, world , \") == \"hello world\"\n",
    "\n",
    "### BEGIN HIDDEN TESTS\n",
    "assert process_string(\"  hello, world , guys\") == \"hello world guys\"\n",
    "### END HIDDEN TESTS"
   ]
  },
  {
   "cell_type": "markdown",
   "id": "856b04d6-d56b-49b4-b1a3-e9728c6fc998",
   "metadata": {
    "deletable": false,
    "editable": false,
    "nbgrader": {
     "grade": false,
     "grade_id": "a2s",
     "locked": true,
     "schema_version": 3,
     "solution": false,
     "task": false
    }
   },
   "source": [
    "### 문제 2.\n",
    "\n",
    "문자열을 쉼표로 분리하여 리스트로 만든 후, 리스트의 두 번째부터 뒤에서 두 번째 요소까지 선택하여 정렬한 새로운 리스트를 생성하는 `sort_elements` 함수를 작성하세요.\n",
    "\n",
    "\n",
    "- 함수는 하나의 매개변수를 받습니다: `input_str` (처리할 문자열).\n",
    "- 함수는 먼저 문자열을 쉼표 ,로 분리하여 리스트를 생성합니다.\n",
    "- 그 다음, 리스트의 두 번째부터 뒤에서 두 번째 요소까지를 선택합니다.\n",
    "- 마지막으로, 선택한 요소들을 알파벳 순서로 정렬하여 새로운 리스트를 생성하여 반환합니다.\n",
    "\n",
    "예를 들어:\n",
    "\n",
    "`input_str = \"g,f,e,d,c,b,a\"`의 경우 출력은 `['b', 'c', 'd', 'e', 'f']`이어야 합니다.\n"
   ]
  },
  {
   "cell_type": "code",
   "execution_count": 4,
   "id": "fb91fb35-e5a2-44c1-b1aa-50dc98133fff",
   "metadata": {
    "deletable": false,
    "execution": {
     "iopub.execute_input": "2024-01-04T16:55:32.843703Z",
     "iopub.status.busy": "2024-01-04T16:55:32.843370Z",
     "iopub.status.idle": "2024-01-04T16:55:32.848530Z",
     "shell.execute_reply": "2024-01-04T16:55:32.847471Z"
    },
    "nbgrader": {
     "grade": false,
     "grade_id": "a2a",
     "locked": false,
     "schema_version": 3,
     "solution": true,
     "task": false
    }
   },
   "outputs": [],
   "source": [
    "def sort_elements(input_str: str) -> list:\n",
    "    ### BEGIN SOLUTION\n",
    "    elements = input_str.split(',')\n",
    "    selected_elements = elements[1:-1]\n",
    "    sorted_elements = sorted(selected_elements)\n",
    "    return sorted_elements\n",
    "    ### END SOLUTION"
   ]
  },
  {
   "cell_type": "code",
   "execution_count": 5,
   "id": "1eae8070-dedb-45d5-99e3-02089f5e6ade",
   "metadata": {
    "deletable": false,
    "editable": false,
    "execution": {
     "iopub.execute_input": "2024-01-04T16:55:32.852125Z",
     "iopub.status.busy": "2024-01-04T16:55:32.851798Z",
     "iopub.status.idle": "2024-01-04T16:55:32.856729Z",
     "shell.execute_reply": "2024-01-04T16:55:32.855798Z"
    },
    "nbgrader": {
     "grade": true,
     "grade_id": "a2t",
     "locked": true,
     "points": 3,
     "schema_version": 3,
     "solution": false,
     "task": false
    }
   },
   "outputs": [],
   "source": [
    "assert sort_elements(\"g,f,e,d,c,b,a\") == ['b', 'c', 'd', 'e', 'f']\n",
    "assert sort_elements(\"m,l,k,j,i,h,g\") == ['h', 'i', 'j', 'k', 'l']\n",
    "### BEGIN HIDDEN TESTS\n",
    "assert sort_elements(\"z,y,x,w,v,u,t\") == ['u', 'v', 'w', 'x', 'y']\n",
    "### END HIDDEN TESTS"
   ]
  },
  {
   "cell_type": "markdown",
   "id": "c5de1ef3-a7a6-4192-8445-3a7e3bf73ce3",
   "metadata": {
    "deletable": false,
    "editable": false,
    "nbgrader": {
     "grade": false,
     "grade_id": "a3s",
     "locked": true,
     "schema_version": 3,
     "solution": false,
     "task": false
    }
   },
   "source": [
    "### 문제 3.\n",
    "\n",
    "문자열 `s`와 패턴 `p`가 주어질 때, 패턴 `p`가 문자열 `s`에 몇 번 나타나는지 카운트하는 함수 `count_pattern`를 작성하세요.\n",
    "\n",
    "- 함수는 두 개의 매개변수를 받습니다: `s` (문자열), `p` (찾을 패턴의 문자열)\n",
    "- 함수는 문자열 `s`에서 패턴 `p`가 나타나는 횟수를 반환합니다.\n",
    "\n",
    "예를 들어:\n",
    "\n",
    "- `s = \"abcabcabc\", p = \"abc\"`의 경우 출력은 `3`이어야 합니다.\n"
   ]
  },
  {
   "cell_type": "code",
   "execution_count": 6,
   "id": "4c065884-3bd1-4768-b49c-c4f96dfeeb55",
   "metadata": {
    "deletable": false,
    "execution": {
     "iopub.execute_input": "2024-01-04T16:55:32.860540Z",
     "iopub.status.busy": "2024-01-04T16:55:32.860189Z",
     "iopub.status.idle": "2024-01-04T16:55:32.865509Z",
     "shell.execute_reply": "2024-01-04T16:55:32.864497Z"
    },
    "nbgrader": {
     "grade": false,
     "grade_id": "a3a",
     "locked": false,
     "schema_version": 3,
     "solution": true,
     "task": false
    }
   },
   "outputs": [],
   "source": [
    "def count_pattern(s: str, p: str) -> int:\n",
    "    ### BEGIN SOLUTION\n",
    "    count = 0\n",
    "    for i in range(len(s) - len(p) + 1):\n",
    "        if s[i:i + len(p)] == p:\n",
    "            count += 1\n",
    "    return count\n",
    "    ### END SOLUTION"
   ]
  },
  {
   "cell_type": "code",
   "execution_count": 7,
   "id": "a77afe02-e2db-4cde-917f-39bbbc5fce91",
   "metadata": {
    "deletable": false,
    "editable": false,
    "execution": {
     "iopub.execute_input": "2024-01-04T16:55:32.869554Z",
     "iopub.status.busy": "2024-01-04T16:55:32.869228Z",
     "iopub.status.idle": "2024-01-04T16:55:32.874026Z",
     "shell.execute_reply": "2024-01-04T16:55:32.872943Z"
    },
    "nbgrader": {
     "grade": true,
     "grade_id": "a3t",
     "locked": true,
     "points": 3,
     "schema_version": 3,
     "solution": false,
     "task": false
    }
   },
   "outputs": [],
   "source": [
    "assert count_pattern(\"abcabcabc\", \"abc\") == 3\n",
    "assert count_pattern(\"aaaaaa\", \"aa\") == 5\n",
    "### BEGIN HIDDEN TESTS\n",
    "assert count_pattern(\"xyzxyz\", \"xyz\") == 2\n",
    "### END HIDDEN TESTS"
   ]
  },
  {
   "cell_type": "markdown",
   "id": "8158e506-29c3-48e6-b5ed-d126def5a913",
   "metadata": {
    "deletable": false,
    "editable": false,
    "nbgrader": {
     "grade": false,
     "grade_id": "a4s",
     "locked": true,
     "schema_version": 3,
     "solution": false,
     "task": false
    }
   },
   "source": [
    "### 문제 4.\n",
    "\n",
    "우리 건물은 층마다 센서가 여러 개 달려 있습니다. 우리는 이 센서들에서 값을 가져오려고 하고 이것을 2차원 리스트로 만들었습니다.\n",
    "\n",
    "각 행은 건물의 층을, 각 열은 해당 층의 센서 값을 나타냅니다.\n",
    "\n",
    "각 층에서 첫 번째, 중간, 마지막 센서의 데이터만 추출하는 extract_sensor_data 함수를 작성하세요.\n",
    "\n",
    "- 함수는 하나의 매개변수를 받습니다: `sensor_data` (건물의 각 층에 있는 센서 데이터를 담은 2D 리스트).\n",
    "- 함수는 각 층에서 첫 번째, 중간(또는 중간 두 개의 평균), 마지막 센서의 데이터만 추출하여 새로운 이차원 리스트로 반환합니다.\n",
    "- 만약 센서의 개수가 짝수개라면 중간값은 가운데 두 센서 값의 평균을 사용합니다. 홀수개라면 정확히 중간의 센서 값을 사용합니다.\n",
    "예를 들어:\n",
    "\n",
    "`sensor_data = [[1, 2, 3, 4], [5, 6, 7, 8], [9, 10, 11, 12]]`의 경우 출력은 `[[1, 2.5, 4], [5, 6.5, 8], [9, 10.5, 12]]`이어야 합니다.\n",
    "`sensor_data = [1, 3, 5], [2, 4, 6], [7, 9, 11]`의 출력은 `[[1, 3, 5], [2, 4, 6], [7, 9, 11]]`이어야 합니다.\n",
    "\n"
   ]
  },
  {
   "cell_type": "code",
   "execution_count": 8,
   "id": "6f53e1f5-8e31-4dd1-802d-c911d513b67c",
   "metadata": {
    "deletable": false,
    "execution": {
     "iopub.execute_input": "2024-01-04T16:55:32.877916Z",
     "iopub.status.busy": "2024-01-04T16:55:32.877564Z",
     "iopub.status.idle": "2024-01-04T16:55:32.883592Z",
     "shell.execute_reply": "2024-01-04T16:55:32.882678Z"
    },
    "nbgrader": {
     "grade": false,
     "grade_id": "a4a",
     "locked": false,
     "schema_version": 3,
     "solution": true,
     "task": false
    }
   },
   "outputs": [],
   "source": [
    "def extract_sensor_data(sensor_data: list) -> list:\n",
    "    ### BEGIN SOLUTION\n",
    "    extracted_data = []\n",
    "    for row in sensor_data:\n",
    "        first = row[0]\n",
    "        if len(row) % 2 == 1:\n",
    "            middle = row[len(row)//2]\n",
    "        else:\n",
    "            middle = (row[len(row)//2 - 1] + row[len(row)//2]) / 2\n",
    "        last = row[-1]\n",
    "        extracted_data.append([first, middle, last])\n",
    "    return extracted_data\n",
    "    ### END SOLUTION"
   ]
  },
  {
   "cell_type": "code",
   "execution_count": 9,
   "id": "f4f0d503-5dea-4d29-8d6c-52cfb1dd2bbd",
   "metadata": {
    "deletable": false,
    "editable": false,
    "execution": {
     "iopub.execute_input": "2024-01-04T16:55:32.887502Z",
     "iopub.status.busy": "2024-01-04T16:55:32.887173Z",
     "iopub.status.idle": "2024-01-04T16:55:32.894218Z",
     "shell.execute_reply": "2024-01-04T16:55:32.893206Z"
    },
    "nbgrader": {
     "grade": true,
     "grade_id": "a4t",
     "locked": true,
     "points": 3,
     "schema_version": 3,
     "solution": false,
     "task": false
    }
   },
   "outputs": [],
   "source": [
    "assert extract_sensor_data([[1, 2, 3, 4], [5, 6, 7, 8], [9, 10, 11, 12]]) == [[1, 2.5, 4], [5, 6.5, 8], [9, 10.5, 12]]\n",
    "assert extract_sensor_data([[1, 3, 5], [2, 4, 6], [7, 9, 11]]) == [[1, 3, 5], [2, 4, 6], [7, 9, 11]]\n",
    "### BEGIN HIDDEN TESTS\n",
    "assert extract_sensor_data([[10, 20, 30], [40, 50, 60], [70, 80, 90]]) == [[10, 20, 30], [40, 50, 60], [70, 80, 90]]\n",
    "assert extract_sensor_data([[10, 20, 30, 40], [50, 60, 70, 80], [90, 100, 110, 120]]) == [[10, 25, 40], [50, 65, 80], [90, 105, 120]]\n",
    "### END HIDDEN TESTS"
   ]
  },
  {
   "cell_type": "markdown",
   "id": "5ade9306-c6d3-4668-85bb-b3e3e6af297e",
   "metadata": {
    "deletable": false,
    "editable": false,
    "nbgrader": {
     "grade": false,
     "grade_id": "a5s",
     "locked": true,
     "schema_version": 3,
     "solution": false,
     "task": false
    }
   },
   "source": [
    "### 문제 5.\n",
    "\n",
    "소설 '반지의 제왕'에서, 프로도와 샘은 반지를 모르도르로 가져가기 위해 여정을 떠납니다. 그들은 각자 다른 지식과 능력을 가지고 있습니다. 어떤 능력은 공통적이지만, 일부는 서로 다릅니다. 이 두 캐릭터가 가지고 있는 능력 중에서, 둘 중 한 명만이 가지고 있는 능력을 찾아야 악의 무리에 대항할 수 있습니다.\n",
    "\n",
    "함수 `find_unique_abilities`를 작성하세요.\n",
    "\n",
    "- 함수는 두 매개변수를 받습니다:\n",
    "  1. `frodo_abilities` (프로도가 가지고 있는 능력을 문자열로 저장하는 set)\n",
    "  2. `sam_abilities` (샘이 가지고 있는 능력을 문자열로 저장하는 set)\n",
    "\n",
    "- 함수는 두 캐릭터 중 한 명만이 가지고 있는 능력의 목록을 `set` 형태로 반환합니다.\n",
    "\n",
    "예를 들어:\n",
    "\n",
    "- `frodo_abilities = {\"Ring Bearing\", \"Stealth\", \"Courage\"}`\n",
    "- `sam_abilities = {\"Cooking\", \"Courage\", \"Loyalty\"}`\n",
    "\n",
    "함수의 출력은 `{\"Ring Bearing\", \"Stealth\", \"Cooking\", \"Loyalty\"}`이어야 합니다.\n",
    "\n"
   ]
  },
  {
   "cell_type": "code",
   "execution_count": 10,
   "id": "51b171c6-a019-4fbb-980e-734567d9f02d",
   "metadata": {
    "deletable": false,
    "execution": {
     "iopub.execute_input": "2024-01-04T16:55:32.898166Z",
     "iopub.status.busy": "2024-01-04T16:55:32.897845Z",
     "iopub.status.idle": "2024-01-04T16:55:32.902573Z",
     "shell.execute_reply": "2024-01-04T16:55:32.901560Z"
    },
    "nbgrader": {
     "grade": false,
     "grade_id": "a5a",
     "locked": false,
     "schema_version": 3,
     "solution": true,
     "task": false
    }
   },
   "outputs": [],
   "source": [
    "def find_unique_abilities(frodo_abilities: set, sam_abilities: set) -> set:\n",
    "    ### BEGIN SOLUTION\n",
    "    return frodo_abilities.symmetric_difference(sam_abilities)\n",
    "    ### END SOLUTION"
   ]
  },
  {
   "cell_type": "code",
   "execution_count": 11,
   "id": "05392d36-0d2d-4cb9-b553-9d871add9c5c",
   "metadata": {
    "deletable": false,
    "editable": false,
    "execution": {
     "iopub.execute_input": "2024-01-04T16:55:32.906586Z",
     "iopub.status.busy": "2024-01-04T16:55:32.906263Z",
     "iopub.status.idle": "2024-01-04T16:55:32.911238Z",
     "shell.execute_reply": "2024-01-04T16:55:32.910431Z"
    },
    "nbgrader": {
     "grade": true,
     "grade_id": "a5t",
     "locked": true,
     "points": 3,
     "schema_version": 3,
     "solution": false,
     "task": false
    }
   },
   "outputs": [],
   "source": [
    "assert find_unique_abilities({\"Ring Bearing\", \"Stealth\", \"Courage\"}, {\"Cooking\", \"Courage\", \"Loyalty\"}) == {\"Ring Bearing\", \"Stealth\", \"Cooking\", \"Loyalty\"}\n",
    "### BEGIN HIDDEN TESTS\n",
    "assert find_unique_abilities({\"Swordsmanship\", \"Archery\"}, {\"Cooking\", \"Healing\"}) == {\"Swordsmanship\", \"Archery\", \"Cooking\", \"Healing\"}\n",
    "### END HIDDEN TESTS"
   ]
  },
  {
   "cell_type": "markdown",
   "id": "12d64764-150c-410a-9835-842e75c4d31f",
   "metadata": {
    "deletable": false,
    "editable": false,
    "nbgrader": {
     "grade": false,
     "grade_id": "a6s",
     "locked": true,
     "schema_version": 3,
     "solution": false,
     "task": false
    }
   },
   "source": [
    "### 문제 6.\n",
    "\n",
    "과학자인 당신은 대기 질 모니터링을 위해 공기질 센서를 설치하였습니다. 이 센서는 일정 간격으로 공기 중 미세먼지 농도를 측정하여 리스트로 저장합니다.\n",
    "\n",
    "함수 `filter_readings`를 작성하세요.\n",
    "\n",
    "- 함수는 하나의 매개변수를 받습니다: `readings` (미세먼지 농도의 리스트)\n",
    "- 함수는 미세먼지 농도가 `35` 이상인 측정치만 추출하여 새로운 리스트를 생성합니다.\n",
    "- 함수는 새로운 리스트를 반환합니다.\n",
    "\n",
    "예를 들어:\n",
    "\n",
    "- `readings = [25, 40, 35, 18, 50]`의 경우 출력은 `[40, 35, 50]`이어야 합니다.\n"
   ]
  },
  {
   "cell_type": "code",
   "execution_count": 12,
   "id": "1eb8a4c9-54a4-4dd1-a752-bcbe77cdf2b2",
   "metadata": {
    "deletable": false,
    "execution": {
     "iopub.execute_input": "2024-01-04T16:55:32.914847Z",
     "iopub.status.busy": "2024-01-04T16:55:32.914526Z",
     "iopub.status.idle": "2024-01-04T16:55:32.919327Z",
     "shell.execute_reply": "2024-01-04T16:55:32.918527Z"
    },
    "nbgrader": {
     "grade": false,
     "grade_id": "a6a",
     "locked": false,
     "schema_version": 3,
     "solution": true,
     "task": false
    }
   },
   "outputs": [],
   "source": [
    "def filter_readings(readings: list) -> list:\n",
    "    ### BEGIN SOLUTION\n",
    "    filtered_readings = [reading for reading in readings if reading >= 35]\n",
    "    return filtered_readings\n",
    "    ### END SOLUTION"
   ]
  },
  {
   "cell_type": "code",
   "execution_count": 13,
   "id": "d364f8a9-25f1-4799-94d1-b364bbc6c153",
   "metadata": {
    "deletable": false,
    "editable": false,
    "execution": {
     "iopub.execute_input": "2024-01-04T16:55:32.923001Z",
     "iopub.status.busy": "2024-01-04T16:55:32.922637Z",
     "iopub.status.idle": "2024-01-04T16:55:32.927786Z",
     "shell.execute_reply": "2024-01-04T16:55:32.926761Z"
    },
    "nbgrader": {
     "grade": true,
     "grade_id": "a6t",
     "locked": true,
     "points": 3,
     "schema_version": 3,
     "solution": false,
     "task": false
    }
   },
   "outputs": [],
   "source": [
    "assert filter_readings([25, 40, 35, 18, 50]) == [40, 35, 50]\n",
    "assert filter_readings([10, 20, 30]) == []\n",
    "### BEGIN HIDDEN TESTS\n",
    "assert filter_readings([36, 40, 22, 37, 18]) == [36, 40, 37]\n",
    "### END HIDDEN TESTS"
   ]
  },
  {
   "cell_type": "markdown",
   "id": "49133545-f86a-4177-90d8-ad0b0a1149e0",
   "metadata": {
    "deletable": false,
    "editable": false,
    "nbgrader": {
     "grade": false,
     "grade_id": "a7s",
     "locked": true,
     "schema_version": 3,
     "solution": false,
     "task": false
    }
   },
   "source": [
    "### 문제 7.\n",
    "\n",
    "온라인 쇼핑몰에서 주문 내역이 딕셔너리 형태로 저장되어 있습니다.\n",
    "\n",
    "함수 `process_orders`를 작성하세요.\n",
    "\n",
    "- 함수는 하나의 매개변수를 받습니다: `orders` (고객의 주문 내역을 저장하는 딕셔너리)\n",
    "- 함수는 각 고객의 주문 금액을 계산하여 새로운 딕셔너리를 생성합니다. 주문 금액은 상품의 가격과 수량을 곱한 값입니다.\n",
    "- 딕셔너리의 키는 고객의 이메일, 값은 주문 금액입니다.\n",
    "- 만약 주문 내역에 `price`값이 없으면, `price`를 0으로 가정합니다.\n",
    "\n",
    "예를 들어:\n",
    "\n",
    "- `orders = {\"john@email.com\": {\"item\": \"book\", \"quantity\": 1, \"price\": 10}, \"jane@email.com\": {\"item\": \"pen\", \"quantity\": 3}}`의 경우 출력은 `{\"john@email.com\": 10, \"jane@email.com\": 0}`이어야 합니다.\n"
   ]
  },
  {
   "cell_type": "code",
   "execution_count": 14,
   "id": "2b89b421-9031-4596-b2f4-821c17bfc6d4",
   "metadata": {
    "deletable": false,
    "execution": {
     "iopub.execute_input": "2024-01-04T16:55:32.931729Z",
     "iopub.status.busy": "2024-01-04T16:55:32.931333Z",
     "iopub.status.idle": "2024-01-04T16:55:32.937098Z",
     "shell.execute_reply": "2024-01-04T16:55:32.936106Z"
    },
    "nbgrader": {
     "grade": false,
     "grade_id": "a7a",
     "locked": false,
     "schema_version": 3,
     "solution": true,
     "task": false
    }
   },
   "outputs": [],
   "source": [
    "def process_orders(orders: dict) -> dict:\n",
    "    ### BEGIN SOLUTION\n",
    "    processed_orders = {}\n",
    "    for email, order in orders.items():\n",
    "        price = order.get(\"price\", 0)\n",
    "        quantity = order.get(\"quantity\", 0)\n",
    "        total_price = price * quantity\n",
    "        processed_orders[email] = total_price\n",
    "    return processed_orders\n",
    "    ### END SOLUTION"
   ]
  },
  {
   "cell_type": "code",
   "execution_count": 15,
   "id": "1aff120e-84cf-4afe-8ff3-4193d107a96d",
   "metadata": {
    "deletable": false,
    "editable": false,
    "execution": {
     "iopub.execute_input": "2024-01-04T16:55:32.940965Z",
     "iopub.status.busy": "2024-01-04T16:55:32.940649Z",
     "iopub.status.idle": "2024-01-04T16:55:32.946303Z",
     "shell.execute_reply": "2024-01-04T16:55:32.945414Z"
    },
    "nbgrader": {
     "grade": true,
     "grade_id": "a7t",
     "locked": true,
     "points": 3,
     "schema_version": 3,
     "solution": false,
     "task": false
    }
   },
   "outputs": [],
   "source": [
    "assert process_orders({\"john@email.com\": {\"item\": \"book\", \"quantity\": 1, \"price\": 10}, \"jane@email.com\": {\"item\": \"pen\", \"quantity\": 3}}) == {\"john@email.com\": 10, \"jane@email.com\": 0}\n",
    "assert process_orders({\"mary@email.com\": {\"item\": \"laptop\", \"quantity\": 1, \"price\": 1000}}) == {\"mary@email.com\": 1000}\n",
    "### BEGIN HIDDEN TESTS\n",
    "assert process_orders({\"dave@email.com\": {\"item\": \"phone\", \"quantity\": 2, \"price\": 500}, \"ella@email.com\": {\"item\": \"headphones\", \"quantity\": 1}}) == {\"dave@email.com\": 1000, \"ella@email.com\": 0}\n",
    "### END HIDDEN TESTS"
   ]
  },
  {
   "cell_type": "markdown",
   "id": "da0cee36-d024-4014-b0f8-07d595e766d6",
   "metadata": {
    "deletable": false,
    "editable": false,
    "nbgrader": {
     "grade": false,
     "grade_id": "a8s",
     "locked": true,
     "schema_version": 3,
     "solution": false,
     "task": false
    }
   },
   "source": [
    "### 문제 8.\n",
    "\n",
    "당신은 포켓몬 트레이너입니다. 내가 잡은 포켓몬을 도감에 넣고 관리하고자 합니다. \n",
    "\n",
    "함수 `my_pokemon`를 작성하세요.\n",
    "\n",
    "- 함수는 두 개의 매개변수를 받습니다: `name` (포켓몬의 이름), `**kwargs` (키워드 파라미터로 받는 추가 정보)\n",
    "- 함수는 `name`과 추가로 입력받은 정보를 합쳐서 하나의 딕셔너리로 만듭니다.\n",
    "- 함수는 이 딕셔너리를 반환합니다.\n",
    "\n",
    "예를 들어:\n",
    "\n",
    "- `my_pokemon(\"Pikachu\", level=3, color=\"yellow\")`의 경우 출력은 `{'name': 'Pikachu', 'level': 30, 'color': 'yellow'}`이어야 합니다.\n",
    "-  `my_pokemon(\"Ggobugi\", level=1, color=\"blue\", type=\"water\")`의 경우 출력은 `{'name': 'Ggobugi', 'level': 1, 'color': 'blue', 'type':'water'}`이어야 합니다.\n"
   ]
  },
  {
   "cell_type": "code",
   "execution_count": 16,
   "id": "2a9cfc0a-a664-4641-a331-afbb2a164f9c",
   "metadata": {
    "deletable": false,
    "execution": {
     "iopub.execute_input": "2024-01-04T16:55:32.950861Z",
     "iopub.status.busy": "2024-01-04T16:55:32.950022Z",
     "iopub.status.idle": "2024-01-04T16:55:32.954860Z",
     "shell.execute_reply": "2024-01-04T16:55:32.953892Z"
    },
    "nbgrader": {
     "grade": false,
     "grade_id": "a8a",
     "locked": false,
     "schema_version": 3,
     "solution": true,
     "task": false
    }
   },
   "outputs": [],
   "source": [
    "def my_pokemon(name: str, **kwargs) -> dict:\n",
    "    ### BEGIN SOLUTION\n",
    "    info = {\"name\": name}\n",
    "    info.update(kwargs)\n",
    "    return info\n",
    "    ### END SOLUTION"
   ]
  },
  {
   "cell_type": "code",
   "execution_count": 17,
   "id": "12d00008-d0cb-45dd-865a-cdbedf95bc40",
   "metadata": {
    "deletable": false,
    "editable": false,
    "execution": {
     "iopub.execute_input": "2024-01-04T16:55:32.958483Z",
     "iopub.status.busy": "2024-01-04T16:55:32.958164Z",
     "iopub.status.idle": "2024-01-04T16:55:32.963661Z",
     "shell.execute_reply": "2024-01-04T16:55:32.962787Z"
    },
    "nbgrader": {
     "grade": true,
     "grade_id": "a8t",
     "locked": true,
     "points": 3,
     "schema_version": 3,
     "solution": false,
     "task": false
    }
   },
   "outputs": [],
   "source": [
    "assert my_pokemon(\"Pikachu\", level=3, color=\"yellow\") == {'name': 'Pikachu', 'level': 3, 'color': 'yellow'}\n",
    "assert my_pokemon(\"Ggobugi\", level=1, color=\"blue\", type=\"water\") == {'name': 'Ggobugi', 'level': 1, 'color': 'blue', 'type':'water'}\n",
    "### BEGIN HIDDEN TESTS\n",
    "assert my_pokemon(\"최동혁\", level=12, color=\"yellow\") == {'name': '최동혁', 'level': 12, 'color': 'yellow'}\n",
    "### END HIDDEN TESTS"
   ]
  },
  {
   "cell_type": "markdown",
   "id": "3351cb57-f34d-4f09-91ec-44f93432c5ac",
   "metadata": {
    "deletable": false,
    "editable": false,
    "nbgrader": {
     "grade": false,
     "grade_id": "a9s",
     "locked": true,
     "schema_version": 3,
     "solution": false,
     "task": false
    }
   },
   "source": [
    "### 문제 9.\n",
    "\n",
    "비행기의 출발 시간과 도착 시간의 차이를 분 단위로 계산해고 싶습니다.\n",
    "\n",
    "함수 `calculate_flight_duration`를 작성하세요.\n",
    "\n",
    "- 함수는 두 개의 매개변수를 받습니다: `departure_time` (출발 시간을 나타내는 datetime 객체), `arrival_time` (도착 시간을 나타내는 datetime 객체)\n",
    "- 함수는 출발 시간과 도착 시간의 차이를 분 단위로 계산하여 반환합니다.\n",
    "\n",
    "예를 들어:\n",
    "\n",
    "- `departure_time = datetime(2023, 1, 1, 10, 0, 0)`, `arrival_time = datetime(2023, 1, 1, 12, 30, 0)`의 경우 출력은 `150`이어야 합니다.\n"
   ]
  },
  {
   "cell_type": "code",
   "execution_count": 18,
   "id": "9203e6d3-79fb-4f9e-b989-ac839e038525",
   "metadata": {
    "deletable": false,
    "execution": {
     "iopub.execute_input": "2024-01-04T16:55:32.967666Z",
     "iopub.status.busy": "2024-01-04T16:55:32.967332Z",
     "iopub.status.idle": "2024-01-04T16:55:32.972584Z",
     "shell.execute_reply": "2024-01-04T16:55:32.971340Z"
    },
    "nbgrader": {
     "grade": false,
     "grade_id": "a9a",
     "locked": false,
     "schema_version": 3,
     "solution": true,
     "task": false
    }
   },
   "outputs": [],
   "source": [
    "from datetime import datetime\n",
    "\n",
    "def calculate_flight_duration(departure_time: datetime, arrival_time: datetime) -> int:\n",
    "    ### BEGIN SOLUTION\n",
    "    delta = arrival_time - departure_time\n",
    "    return delta.seconds // 60\n",
    "    ### END SOLUTION"
   ]
  },
  {
   "cell_type": "code",
   "execution_count": 19,
   "id": "671ee1e4-f6ae-4be9-9390-f25174b634ab",
   "metadata": {
    "deletable": false,
    "editable": false,
    "execution": {
     "iopub.execute_input": "2024-01-04T16:55:32.976624Z",
     "iopub.status.busy": "2024-01-04T16:55:32.976285Z",
     "iopub.status.idle": "2024-01-04T16:55:32.982446Z",
     "shell.execute_reply": "2024-01-04T16:55:32.981492Z"
    },
    "nbgrader": {
     "grade": true,
     "grade_id": "a9t",
     "locked": true,
     "points": 3,
     "schema_version": 3,
     "solution": false,
     "task": false
    }
   },
   "outputs": [],
   "source": [
    "assert calculate_flight_duration(datetime(2023, 1, 1, 10, 0, 0), datetime(2023, 1, 1, 12, 30, 0)) == 150\n",
    "assert calculate_flight_duration(datetime(2023, 1, 1, 9, 0, 0), datetime(2023, 1, 1, 9, 45, 0)) == 45\n",
    "### BEGIN HIDDEN TESTS\n",
    "assert calculate_flight_duration(datetime(2023, 1, 2, 11, 0, 0), datetime(2023, 1, 2, 12, 15, 0)) == 75\n",
    "### END HIDDEN TESTS"
   ]
  },
  {
   "cell_type": "markdown",
   "id": "fa7ee157-2fa2-4979-830e-80f296639ee9",
   "metadata": {
    "deletable": false,
    "editable": false,
    "nbgrader": {
     "grade": false,
     "grade_id": "a10s",
     "locked": true,
     "schema_version": 3,
     "solution": false,
     "task": false
    }
   },
   "source": [
    "### 문제 10.\n",
    "\n",
    "당신은 딕셔너리에서 key값과 value값을 반대로 입력했다는 사실을 깨달았습니다. 이를 수정하는 함수 `reverse_key_value`를 작성하세요.\n",
    "\n",
    "- 함수는 하나의 매개변수를 받습니다: `original_dict` (원본 키와 값을 저장하는 딕셔너리).\n",
    "- 함수는 원본 딕셔너리의 키와 값이 서로 바뀐 새로운 딕셔너리를 반환합니다.\n",
    "\n",
    "예를 들어:\n",
    "\n",
    "- `original_dict = {\"apple\": \"fruit\", \"lettuce\": \"vegetable\"}`의 경우 출력은 `{\"fruit\": \"apple\", \"vegetable\": \"lettuce\"}`이어야 합니다.\n",
    "\n",
    "**주의**: 이 문제에서는 원본 딕셔너리의 모든 값이 유니크하다고 가정합니다.\n",
    "\n"
   ]
  },
  {
   "cell_type": "code",
   "execution_count": 20,
   "id": "d5705a84-9252-4328-8576-2c22a58a88b0",
   "metadata": {
    "deletable": false,
    "execution": {
     "iopub.execute_input": "2024-01-04T16:55:32.986279Z",
     "iopub.status.busy": "2024-01-04T16:55:32.985959Z",
     "iopub.status.idle": "2024-01-04T16:55:32.990898Z",
     "shell.execute_reply": "2024-01-04T16:55:32.989884Z"
    },
    "nbgrader": {
     "grade": false,
     "grade_id": "a10a",
     "locked": false,
     "schema_version": 3,
     "solution": true,
     "task": false
    }
   },
   "outputs": [],
   "source": [
    "def reverse_key_value(original_dict: dict) -> dict:\n",
    "    ### BEGIN SOLUTION\n",
    "    reversed_dict = {}\n",
    "    for key, value in original_dict.items():\n",
    "        reversed_dict[value] = key\n",
    "    return reversed_dict\n",
    "    ### END SOLUTION"
   ]
  },
  {
   "cell_type": "code",
   "execution_count": 21,
   "id": "02f2f929-943b-43da-ae80-1ae8b966ce5d",
   "metadata": {
    "deletable": false,
    "editable": false,
    "execution": {
     "iopub.execute_input": "2024-01-04T16:55:32.994785Z",
     "iopub.status.busy": "2024-01-04T16:55:32.994454Z",
     "iopub.status.idle": "2024-01-04T16:55:33.000016Z",
     "shell.execute_reply": "2024-01-04T16:55:32.998998Z"
    },
    "nbgrader": {
     "grade": true,
     "grade_id": "a10t",
     "locked": true,
     "points": 3,
     "schema_version": 3,
     "solution": false,
     "task": false
    }
   },
   "outputs": [],
   "source": [
    "assert reverse_key_value({\"apple\": \"fruit\", \"lettuce\": \"vegetable\"}) == {\"fruit\": \"apple\", \"vegetable\": \"lettuce\"}\n",
    "assert reverse_key_value({\"cat\": \"animal\", \"rose\": \"flower\"}) == {\"animal\": \"cat\", \"flower\": \"rose\"}\n",
    "### BEGIN HIDDEN TESTS\n",
    "assert reverse_key_value({\"book\": \"read\", \"pencil\": \"write\"}) == {\"read\": \"book\", \"write\": \"pencil\"}\n",
    "### END HIDDEN TESTS"
   ]
  }
 ],
 "metadata": {
  "kernelspec": {
   "display_name": "Python 3 (ipykernel)",
   "language": "python",
   "name": "python3"
  },
  "language_info": {
   "codemirror_mode": {
    "name": "ipython",
    "version": 3
   },
   "file_extension": ".py",
   "mimetype": "text/x-python",
   "name": "python",
   "nbconvert_exporter": "python",
   "pygments_lexer": "ipython3",
   "version": "3.10.12"
  },
  "widgets": {
   "application/vnd.jupyter.widget-state+json": {
    "state": {},
    "version_major": 2,
    "version_minor": 0
   }
  }
 },
 "nbformat": 4,
 "nbformat_minor": 5
}
